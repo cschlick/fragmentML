{
 "cells": [
  {
   "cell_type": "code",
   "execution_count": 1,
   "id": "dominant-inspector",
   "metadata": {},
   "outputs": [],
   "source": [
    "from multiprocessing import Pool\n",
    "import tqdm\n",
    "import pickle\n",
    "from pathlib import Path\n",
    "from contextlib import closing\n",
    "from rdkit import Chem"
   ]
  },
  {
   "cell_type": "code",
   "execution_count": 2,
   "id": "comprehensive-peninsula",
   "metadata": {},
   "outputs": [],
   "source": [
    "import sys\n",
    "sys.path.append(\"../\")"
   ]
  },
  {
   "cell_type": "code",
   "execution_count": 3,
   "id": "jewish-omaha",
   "metadata": {},
   "outputs": [],
   "source": [
    "from phenixml.fragmentation.fragmenter_restraints import BondFragmenter, AngleFragmenter"
   ]
  },
  {
   "cell_type": "code",
   "execution_count": 4,
   "id": "involved-defendant",
   "metadata": {},
   "outputs": [
    {
     "name": "stdout",
     "output_type": "stream",
     "text": [
      "CPU times: user 3.29 s, sys: 8.33 s, total: 11.6 s\n",
      "Wall time: 58.1 s\n"
     ]
    }
   ],
   "source": [
    "%%time\n",
    "filtered_dir = Path(\"/net/cci/cschlick/Filtered_COD3/\")\n",
    "err_files = [path for path in filtered_dir.glob(\"**/*\") if path.suffix == \".err\"]"
   ]
  },
  {
   "cell_type": "code",
   "execution_count": 5,
   "id": "preceding-monkey",
   "metadata": {},
   "outputs": [
    {
     "name": "stdout",
     "output_type": "stream",
     "text": [
      "Success: 74249\n",
      "CPU times: user 2.9 s, sys: 3.04 s, total: 5.94 s\n",
      "Wall time: 40.7 s\n"
     ]
    }
   ],
   "source": [
    "%%time\n",
    "success_converted = []\n",
    "for err_file in err_files:\n",
    "  with err_file.open(\"r\") as fh:\n",
    "    lines = fh.readlines()\n",
    "    if len(lines)==1 and \"1 molecule converted\" in lines[0]:\n",
    "      success_converted.append(Path(err_file.parent,err_file.stem+\".mol2\"))\n",
    "print(\"Success:\",len(success_converted))"
   ]
  },
  {
   "cell_type": "code",
   "execution_count": 6,
   "id": "historical-aruba",
   "metadata": {},
   "outputs": [],
   "source": [
    "# elements and parameters\n",
    "covalent_organic = [\"O\",\"C\",\"H\",\"N\",\"P\",\"S\",\"Cl\",\"B\",\"F\",\"I\",\"Br\"]\n",
    "params = {'elements_considered': covalent_organic}"
   ]
  },
  {
   "cell_type": "code",
   "execution_count": 7,
   "id": "composed-nation",
   "metadata": {},
   "outputs": [],
   "source": [
    "def worker(mol2_file):\n",
    "\n",
    "  rdmol = Chem.MolFromMol2File(mol2_file.as_posix(),removeHs=False)\n",
    "  results = {\"filepath\":mol2_file,\"rdmol\":rdmol}\n",
    "  return results"
   ]
  },
  {
   "cell_type": "code",
   "execution_count": 8,
   "id": "spanish-intake",
   "metadata": {},
   "outputs": [
    {
     "name": "stderr",
     "output_type": "stream",
     "text": [
      "100%|██████████| 74249/74249 [00:11<00:00, 6714.06it/s]\n"
     ]
    }
   ],
   "source": [
    "from rdkit import RDLogger\n",
    "RDLogger.DisableLog('rdApp.*') \n",
    "\n",
    "work = success_converted\n",
    "with closing(Pool(processes=32)) as pool:\n",
    "  results = []\n",
    "  for result in tqdm.tqdm(pool.map(worker, work), total=len(work)):\n",
    "      results.append(result)\n",
    "  pool.terminate()"
   ]
  },
  {
   "cell_type": "code",
   "execution_count": null,
   "id": "cultural-trinity",
   "metadata": {},
   "outputs": [],
   "source": []
  },
  {
   "cell_type": "code",
   "execution_count": 9,
   "id": "lesser-clarity",
   "metadata": {},
   "outputs": [
    {
     "name": "stdout",
     "output_type": "stream",
     "text": [
      "Success initialized: 63018\n",
      "Failed initialized: 11231\n"
     ]
    }
   ],
   "source": [
    "success_initialized = []\n",
    "failed_initialized = []\n",
    "for result in results:\n",
    "  if result[\"rdmol\"] is not None:\n",
    "    success_initialized.append(result)\n",
    "  else:\n",
    "    failed_initialized.append(result)\n",
    "print(\"Success initialized:\",len(success_initialized))\n",
    "print(\"Failed initialized:\",len(failed_initialized))"
   ]
  },
  {
   "cell_type": "code",
   "execution_count": 10,
   "id": "amateur-deviation",
   "metadata": {},
   "outputs": [],
   "source": [
    "angle_fragmenter = AngleFragmenter()\n",
    "bond_fragmenter = BondFragmenter()"
   ]
  },
  {
   "cell_type": "code",
   "execution_count": 11,
   "id": "norman-executive",
   "metadata": {},
   "outputs": [],
   "source": [
    "def worker(work_dict):\n",
    "  rdmol = work_dict[\"rdmol\"]\n",
    "  angle_fragments = angle_fragmenter.fragment(rdmol)\n",
    "  angle_fragments = [frag for frag in angle_fragments if \"H\" not in frag.atom_symbols]\n",
    "\n",
    "  \n",
    "  bond_fragments = bond_fragmenter.fragment(rdmol)\n",
    "  bond_fragments = [frag for frag in bond_fragments if \"H\" not in frag.atom_symbols]\n",
    "  \n",
    "  for frag in angle_fragments:\n",
    "    frag.properties[\"filepath\"]=work_dict[\"filepath\"]\n",
    "    conf = frag.rdmol.GetConformer()\n",
    "    i,j,k = frag.atom_indices\n",
    "    angle_deg = Chem.rdMolTransforms.GetAngleDeg(conf,i,j,k)\n",
    "    frag.properties[\"angle_deg\"] = angle_deg\n",
    "\n",
    "    \n",
    "  for frag in bond_fragments:\n",
    "    frag.properties[\"filepath\"]=work_dict[\"filepath\"]\n",
    "    \n",
    "    conf = frag.rdmol.GetConformer()\n",
    "    i,j = frag.atom_indices\n",
    "    bond_length = Chem.rdMolTransforms.GetBondLength(conf,i,j)\n",
    "    frag.properties[\"bond_length\"] = bond_length\n",
    "    \n",
    "  work_dict[\"angle_fragments\"]=angle_fragments\n",
    "  work_dict[\"bond_fragments\"]=bond_fragments\n",
    "  return work_dict"
   ]
  },
  {
   "cell_type": "code",
   "execution_count": 12,
   "id": "flexible-forward",
   "metadata": {},
   "outputs": [
    {
     "name": "stderr",
     "output_type": "stream",
     "text": [
      "100%|██████████| 63018/63018 [01:00<00:00, 1046.73it/s]\n"
     ]
    }
   ],
   "source": [
    "work = success_initialized\n",
    "with closing(Pool(processes=32)) as pool:\n",
    "  results = []\n",
    "  for result in tqdm.tqdm(pool.map(worker, work), total=len(work)):\n",
    "      results.append(result)\n",
    "  pool.terminate()"
   ]
  },
  {
   "cell_type": "code",
   "execution_count": 13,
   "id": "pleased-turkey",
   "metadata": {},
   "outputs": [],
   "source": [
    "angle_fragments = []\n",
    "bond_fragments = []\n",
    "for result in results:\n",
    "  angle_fragments+=result[\"angle_fragments\"]\n",
    "  bond_fragments+=result[\"bond_fragments\"]"
   ]
  },
  {
   "cell_type": "code",
   "execution_count": 20,
   "id": "unusual-roberts",
   "metadata": {},
   "outputs": [
    {
     "name": "stdout",
     "output_type": "stream",
     "text": [
      "CPU times: user 14.3 s, sys: 1.93 s, total: 16.3 s\n",
      "Wall time: 19.3 s\n"
     ]
    }
   ],
   "source": [
    "%%time\n",
    "fragments_path = Path(\"/net/cci/cschlick/Filtered_COD3/fragments.pkl\")\n",
    "with fragments_path.open(\"wb\") as fh:\n",
    "  pickle.dump(results,fh)"
   ]
  },
  {
   "cell_type": "markdown",
   "id": "about-appreciation",
   "metadata": {},
   "source": [
    "## Stop"
   ]
  },
  {
   "cell_type": "code",
   "execution_count": 36,
   "id": "contrary-equilibrium",
   "metadata": {},
   "outputs": [],
   "source": [
    "rdmols = [frag.rdmol for frag in frags]\n",
    "assert len(set(rdmols))==1\n",
    "rdmol = rdmols[0]\n",
    "interaction_mols = [rdmol]\n",
    "target_fragments = frags"
   ]
  },
  {
   "cell_type": "code",
   "execution_count": 58,
   "id": "aboriginal-sweden",
   "metadata": {},
   "outputs": [],
   "source": [
    "frags_midpoints = np.array([target.xyz_fragment.mean(axis=1) for target in target_fragments])\n",
    "assert(frags_midpoints.shape[1]==3)\n",
    "target_xyz = frags_midpoints\n",
    "interaction_xyz = np.vstack([rdmol.GetConformer().GetPositions() for rdmol in interaction_mols])\n",
    "interaction_elements = np.concatenate([[a.GetSymbol() for a in rdmol.GetAtoms()] for rdmol in interaction_mols])"
   ]
  },
  {
   "cell_type": "code",
   "execution_count": 63,
   "id": "southern-looking",
   "metadata": {},
   "outputs": [],
   "source": []
  },
  {
   "cell_type": "code",
   "execution_count": 71,
   "id": "naked-press",
   "metadata": {},
   "outputs": [],
   "source": [
    "\n"
   ]
  },
  {
   "cell_type": "code",
   "execution_count": 74,
   "id": "rolled-founder",
   "metadata": {},
   "outputs": [],
   "source": []
  },
  {
   "cell_type": "code",
   "execution_count": 85,
   "id": "greater-battle",
   "metadata": {},
   "outputs": [],
   "source": [
    "# elements and parameters\n",
    "covalent_organic = [\"O\",\"C\",\"H\",\"N\",\"P\",\"S\",\"Cl\",\"B\",\"F\",\"I\",\"Br\"]\n",
    "metals = [\"Na\",\"K\",\"Ca\",\"Fe\",\"Mn\",\"Zn\",\"Mg\",\"Cu\",\"Co\"]\n",
    "\n",
    "params = {'radial_cutoff': 4.6,\n",
    " 'radial_nu': 32,\n",
    " 'radial_probes': [0.7,\n",
    "                  1.4,\n",
    "                  1.9,\n",
    "                  2.4,\n",
    "                  3.2,\n",
    "                  3.8,\n",
    "                  4.4],\n",
    " 'angular_cutoff': 3.1,\n",
    " 'angular_nu': 4,\n",
    " 'angular_probes': [0.0, 1.57, 3.14, 4.71],\n",
    " 'angular_radial_probes': [0.7,1.4,1.9,2.4],\n",
    " 'angular_zeta': 8,\n",
    " 'min_probed_value': 0.0,\n",
    " 'exclude_hydrogens': False,\n",
    " 'elements_considered': covalent_organic}"
   ]
  },
  {
   "cell_type": "code",
   "execution_count": 119,
   "id": "interested-placement",
   "metadata": {},
   "outputs": [
    {
     "ename": "ModuleNotFoundError",
     "evalue": "No module named 'featurizer_base'",
     "output_type": "error",
     "traceback": [
      "\u001b[0;31m---------------------------------------------------------------------------\u001b[0m",
      "\u001b[0;31mModuleNotFoundError\u001b[0m                       Traceback (most recent call last)",
      "\u001b[0;32m<ipython-input-119-0f722af420da>\u001b[0m in \u001b[0;36m<module>\u001b[0;34m\u001b[0m\n\u001b[0;32m----> 1\u001b[0;31m \u001b[0;32mfrom\u001b[0m \u001b[0mfeaturizers\u001b[0m \u001b[0;32mimport\u001b[0m \u001b[0mbond_angle_symbols\u001b[0m\u001b[0;34m\u001b[0m\u001b[0;34m\u001b[0m\u001b[0m\n\u001b[0m",
      "\u001b[0;32m/net/cci-filer3/home/cschlick/PhenixML/phenixml/featurizers/bond_angle_symbols.py\u001b[0m in \u001b[0;36m<module>\u001b[0;34m\u001b[0m\n\u001b[1;32m      1\u001b[0m \u001b[0;32mfrom\u001b[0m \u001b[0mrdkit\u001b[0m \u001b[0;32mimport\u001b[0m \u001b[0mChem\u001b[0m\u001b[0;34m\u001b[0m\u001b[0;34m\u001b[0m\u001b[0m\n\u001b[1;32m      2\u001b[0m \u001b[0;34m\u001b[0m\u001b[0m\n\u001b[0;32m----> 3\u001b[0;31m \u001b[0;32mfrom\u001b[0m \u001b[0mfeaturizer_base\u001b[0m \u001b[0;32mimport\u001b[0m \u001b[0mMolFeaturizer\u001b[0m\u001b[0;34m\u001b[0m\u001b[0;34m\u001b[0m\u001b[0m\n\u001b[0m\u001b[1;32m      4\u001b[0m \u001b[0;34m\u001b[0m\u001b[0m\n\u001b[1;32m      5\u001b[0m \u001b[0;34m\u001b[0m\u001b[0m\n",
      "\u001b[0;31mModuleNotFoundError\u001b[0m: No module named 'featurizer_base'"
     ]
    }
   ],
   "source": []
  },
  {
   "cell_type": "code",
   "execution_count": 99,
   "id": "studied-state",
   "metadata": {},
   "outputs": [],
   "source": [
    "aev = ANIVector(target_xyz,interaction_xyz,interaction_elements,params)"
   ]
  },
  {
   "cell_type": "code",
   "execution_count": 98,
   "id": "australian-associate",
   "metadata": {},
   "outputs": [
    {
     "data": {
      "text/plain": [
       "array([[0., 0., 0., ..., 0., 0., 0.],\n",
       "       [0., 0., 0., ..., 0., 0., 0.],\n",
       "       [0., 0., 0., ..., 0., 0., 0.],\n",
       "       ...,\n",
       "       [0., 0., 0., ..., 0., 0., 0.],\n",
       "       [0., 0., 0., ..., 0., 0., 0.],\n",
       "       [0., 0., 0., ..., 0., 0., 0.]])"
      ]
     },
     "execution_count": 98,
     "metadata": {},
     "output_type": "execute_result"
    }
   ],
   "source": [
    "aev.featurize()"
   ]
  },
  {
   "cell_type": "code",
   "execution_count": 115,
   "id": "ahead-nylon",
   "metadata": {},
   "outputs": [],
   "source": []
  },
  {
   "cell_type": "code",
   "execution_count": 110,
   "id": "protective-financing",
   "metadata": {},
   "outputs": [],
   "source": [
    "feat = MorganFeaturizer()"
   ]
  },
  {
   "cell_type": "code",
   "execution_count": 112,
   "id": "based-moral",
   "metadata": {},
   "outputs": [],
   "source": [
    "ret = feat.featurize(frags[0])"
   ]
  },
  {
   "cell_type": "code",
   "execution_count": 114,
   "id": "perceived-throw",
   "metadata": {},
   "outputs": [
    {
     "data": {
      "text/plain": [
       "array([0, 0, 0, ..., 0, 0, 0])"
      ]
     },
     "execution_count": 114,
     "metadata": {},
     "output_type": "execute_result"
    }
   ],
   "source": [
    "np.array(ret)"
   ]
  },
  {
   "cell_type": "code",
   "execution_count": null,
   "id": "limiting-neighbor",
   "metadata": {},
   "outputs": [],
   "source": []
  },
  {
   "cell_type": "code",
   "execution_count": null,
   "id": "noble-federal",
   "metadata": {},
   "outputs": [],
   "source": []
  },
  {
   "cell_type": "code",
   "execution_count": 102,
   "id": "liberal-malawi",
   "metadata": {},
   "outputs": [],
   "source": [
    "import rdkit"
   ]
  },
  {
   "cell_type": "code",
   "execution_count": 105,
   "id": "commercial-desktop",
   "metadata": {},
   "outputs": [
    {
     "data": {
      "text/plain": [
       "\u001b[0;31mDocstring:\u001b[0m\n",
       "GetMorganFingerprintAsBitVect( (Mol)mol, (int)radius [, (int)nBits=2048 [, (AtomPairsParameters)invariants=[] [, (AtomPairsParameters)fromAtoms=[] [, (bool)useChirality=False [, (bool)useBondTypes=True [, (bool)useFeatures=False [, (AtomPairsParameters)bitInfo=None [, (bool)includeRedundantEnvironments=False]]]]]]]]) -> ExplicitBitVect :\n",
       "    Returns a Morgan fingerprint for a molecule as a bit vector\n",
       "\n",
       "    C++ signature :\n",
       "        ExplicitBitVect* GetMorganFingerprintAsBitVect(RDKit::ROMol,unsigned int [,unsigned int=2048 [,boost::python::api::object=[] [,boost::python::api::object=[] [,bool=False [,bool=True [,bool=False [,boost::python::api::object=None [,bool=False]]]]]]]])\n",
       "\u001b[0;31mType:\u001b[0m      function\n"
      ]
     },
     "metadata": {},
     "output_type": "display_data"
    }
   ],
   "source": [
    "Chem.rdMolDescriptors.GetMorganFingerprintAsBitVect??"
   ]
  },
  {
   "cell_type": "code",
   "execution_count": null,
   "id": "emerging-macintosh",
   "metadata": {},
   "outputs": [],
   "source": []
  }
 ],
 "metadata": {
  "kernelspec": {
   "display_name": "Python 3",
   "language": "python",
   "name": "python3"
  },
  "language_info": {
   "codemirror_mode": {
    "name": "ipython",
    "version": 3
   },
   "file_extension": ".py",
   "mimetype": "text/x-python",
   "name": "python",
   "nbconvert_exporter": "python",
   "pygments_lexer": "ipython3",
   "version": "3.8.6"
  }
 },
 "nbformat": 4,
 "nbformat_minor": 5
}
