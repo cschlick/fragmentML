{
 "cells": [
  {
   "cell_type": "code",
   "execution_count": 2,
   "id": "meaningful-depression",
   "metadata": {},
   "outputs": [],
   "source": [
    "from multiprocessing import Pool\n",
    "import tqdm\n",
    "import pickle\n",
    "from pathlib import Path\n",
    "from contextlib import closing\n",
    "from rdkit import Chem\n",
    "import numpy as np\n",
    "import pandas as pd"
   ]
  },
  {
   "cell_type": "code",
   "execution_count": 3,
   "id": "diverse-panel",
   "metadata": {},
   "outputs": [],
   "source": [
    "import sys\n",
    "sys.path.append(\"../\")"
   ]
  },
  {
   "cell_type": "code",
   "execution_count": 4,
   "id": "taken-framing",
   "metadata": {},
   "outputs": [
    {
     "name": "stdout",
     "output_type": "stream",
     "text": [
      "CPU times: user 27.6 s, sys: 3.28 s, total: 30.9 s\n",
      "Wall time: 31.1 s\n"
     ]
    }
   ],
   "source": [
    "%%time\n",
    "fragments_path = Path(\"/net/cci/cschlick/Filtered_COD3/fragments.pkl\")\n",
    "with fragments_path.open(\"rb\") as fh:\n",
    "  fragments = pickle.load(fh)"
   ]
  },
  {
   "cell_type": "code",
   "execution_count": null,
   "id": "spanish-hundred",
   "metadata": {},
   "outputs": [],
   "source": []
  },
  {
   "cell_type": "code",
   "execution_count": 5,
   "id": "assigned-functionality",
   "metadata": {},
   "outputs": [],
   "source": [
    "N_max = 1000\n",
    "angle_fragments = []\n",
    "bond_fragments = []\n",
    "for i,result in enumerate(fragments):\n",
    "  if i<N_max or N_max == -1:\n",
    "    angle_fragments+=result[\"angle_fragments\"]\n",
    "    bond_fragments+=result[\"bond_fragments\"]"
   ]
  },
  {
   "cell_type": "code",
   "execution_count": 6,
   "id": "changing-sample",
   "metadata": {},
   "outputs": [],
   "source": [
    "from phenixml.featurizers.bond_angle_tokenizer import BondTokenizer, AngleTokenizer, bond_order"
   ]
  },
  {
   "cell_type": "code",
   "execution_count": 7,
   "id": "equipped-attachment",
   "metadata": {},
   "outputs": [],
   "source": [
    "def worker_angle(angle_fragment):\n",
    "  angle_tokenizer = AngleTokenizer(ignore_bond_type=False)\n",
    "  return angle_tokenizer.featurize(angle_fragment)\n",
    "\n",
    "def worker_bond(bond_fragment):\n",
    "  bond_tokenizer = BondTokenizer(ignore_bond_type=False)\n",
    "  return bond_tokenizer.featurize(bond_fragment)"
   ]
  },
  {
   "cell_type": "code",
   "execution_count": null,
   "id": "likely-murray",
   "metadata": {},
   "outputs": [],
   "source": []
  },
  {
   "cell_type": "code",
   "execution_count": 8,
   "id": "aboriginal-democrat",
   "metadata": {},
   "outputs": [],
   "source": [
    "bond_tokenizer = BondTokenizer(ignore_bond_type=False)"
   ]
  },
  {
   "cell_type": "code",
   "execution_count": 9,
   "id": "dangerous-semiconductor",
   "metadata": {},
   "outputs": [
    {
     "name": "stderr",
     "output_type": "stream",
     "text": [
      "100%|██████████| 48082/48082 [00:00<00:00, 2516320.73it/s]\n"
     ]
    }
   ],
   "source": [
    "work = angle_fragments\n",
    "with closing(Pool(processes=32)) as pool:\n",
    "  angle_tokens = []\n",
    "  for result in tqdm.tqdm(pool.map(worker_angle, work), total=len(work)):\n",
    "      angle_tokens.append(result)\n",
    "  pool.terminate()"
   ]
  },
  {
   "cell_type": "code",
   "execution_count": 10,
   "id": "continent-mechanism",
   "metadata": {},
   "outputs": [
    {
     "name": "stderr",
     "output_type": "stream",
     "text": [
      "100%|██████████| 32949/32949 [00:00<00:00, 1235058.65it/s]\n"
     ]
    }
   ],
   "source": [
    "work = bond_fragments\n",
    "with closing(Pool(processes=16)) as pool:\n",
    "  bond_tokens = []\n",
    "  for result in tqdm.tqdm(pool.map(worker_bond, work), total=len(work)):\n",
    "      bond_tokens.append(result)\n",
    "  pool.terminate()"
   ]
  },
  {
   "cell_type": "code",
   "execution_count": 11,
   "id": "interesting-executive",
   "metadata": {},
   "outputs": [],
   "source": [
    "covalent_organic = [\"O\",\"C\",\"H\",\"N\",\"P\",\"S\",\"Cl\",\"B\",\"F\",\"I\",\"Br\",\"None\"]\n",
    "\n",
    "periodic_table_symbol_keys = {\"H\": 1, \"He\": 2, \"Li\": 3, \"Be\": 4, \"B\": 5,\n",
    "                            \"C\": 6, \"N\": 7, \"O\": 8, \"F\": 9, \"Ne\": 10,\n",
    "                            \"Na\": 11, \"Mg\": 12, \"Al\": 13, \"Si\": 14, \"P\": 15,\n",
    "                            \"S\": 16, \"Cl\": 17, \"Ar\": 18, \"K\": 19, \"Ca\": 20,\n",
    "                            \"Sc\": 21, \"Ti\": 22, \"V\": 23, \"Cr\": 24, \"Mn\": 25,\n",
    "                            \"Fe\": 26, \"Co\": 27, \"Ni\": 28, \"Cu\": 29,\n",
    "                            \"Zn\": 30, \"Ga\": 31, \"Ge\": 32, \"As\": 33,\n",
    "                            \"Se\": 34, \"Br\": 35, \"Kr\": 36, \"Rb\": 37,\n",
    "                            \"Sr\": 38, \"Y\": 39, \"Zr\": 40, \"Nb\": 41, \"Mo\": 42,\n",
    "                            \"Tc\": 43, \"Ru\": 44, \"Rh\": 45, \"Pd\": 46,\n",
    "                            \"Ag\": 47, \"Cd\": 48, \"In\": 49, \"Sn\": 50,\n",
    "                            \"Sb\": 51, \"Te\": 52, \"I\": 53, \"Xe\": 54, \"Cs\": 55,\n",
    "                            \"Ba\": 56, \"La\": 57, \"Ce\": 58, \"Pr\": 59,\n",
    "                            \"Nd\": 60, \"Pm\": 61, \"Sm\": 62, \"Eu\": 63,\n",
    "                            \"Gd\": 64, \"Tb\": 65, \"Dy\": 66, \"Ho\": 67,\n",
    "                            \"Er\": 68, \"Tm\": 69, \"Yb\": 70, \"Lu\": 71,\n",
    "                            \"Hf\": 72, \"Ta\": 73, \"W\": 74, \"Re\": 75, \"Os\": 76,\n",
    "                            \"Ir\": 77, \"Pt\": 78, \"Au\": 79, \"Hg\": 80,\n",
    "                            \"Tl\": 81, \"Pb\": 82, \"Bi\": 83, \"Po\": 84,\n",
    "                            \"At\": 85, \"Rn\": 86, \"Fr\": 87, \"Ra\": 88,\n",
    "                            \"Ac\": 89, \"Th\": 90, \"Pa\": 91, \"U\": 92, \"Np\": 93,\n",
    "                            \"Pu\": 94, \"Am\": 95, \"Cm\": 96, \"Bk\": 97,\n",
    "                            \"Cf\": 98, \"Es\": 99, \"Fm\": 100, \"Md\": 101,\n",
    "                            \"No\": 102, \"Lr\": 103, \"Rf\": 104, \"Db\": 105,\n",
    "                            \"Sg\": 106, \"Bh\": 107, \"Hs\": 108, \"Mt\": 109,\n",
    "                            \"Ds\": 110, \"Rg\": 111, \"Cn\": 112, \"Nh\": 113,\n",
    "                            \"Fl\": 114, \"Mc\": 115, \"Lv\": 116, \"Ts\": 117,\n",
    "                            \"Og\": 118}\n",
    "\n",
    "\n",
    "periodic_table_number_keys = {value: key for key, value in periodic_table_symbol_keys.items()}"
   ]
  },
  {
   "cell_type": "code",
   "execution_count": 12,
   "id": "suffering-arctic",
   "metadata": {},
   "outputs": [],
   "source": [
    "from itertools import combinations\n",
    "combs = list(combinations(covalent_organic,4))"
   ]
  },
  {
   "cell_type": "code",
   "execution_count": 13,
   "id": "experimental-villa",
   "metadata": {},
   "outputs": [],
   "source": [
    "#from phenixml.utils.rdkit_utils import periodic_table_number_keys, periodic_table_symbol_keys"
   ]
  },
  {
   "cell_type": "code",
   "execution_count": 14,
   "id": "naked-budapest",
   "metadata": {},
   "outputs": [],
   "source": [
    "front_side_tokens = []\n",
    "back_side_tokens = []\n",
    "for i,frag in enumerate(bond_fragments):\n",
    "  front_side = []\n",
    "  front_side_bonds = []\n",
    "  back_side = []\n",
    "  back_side_bonds = []\n",
    "\n",
    "  atom_indices = [x for _, x in sorted(zip(frag.atom_numbers,frag.atom_indices))]\n",
    "  aidx = atom_indices[0]\n",
    "  atom = frag.rdmol.GetAtomWithIdx(aidx)\n",
    "  nbrs = atom.GetNeighbors()\n",
    "  for nbr in nbrs:\n",
    "    nidx = nbr.GetIdx()\n",
    "    if nbr not in atom_indices:\n",
    "      if len(front_side)<4:\n",
    "        front_side.append(nbr.GetSymbol())\n",
    "        bond = frag.rdmol.GetBondBetweenAtoms(aidx,nidx)\n",
    "        bondo = bond_order(bond.GetBondType())\n",
    "        front_side_bonds.append(bondo)\n",
    "\n",
    "  aidx = atom_indices[-1]\n",
    "  atom = frag.rdmol.GetAtomWithIdx(aidx)\n",
    "  nbrs = atom.GetNeighbors()\n",
    "  for nbr in nbrs:\n",
    "    nidx = nbr.GetIdx()\n",
    "    if nidx not in atom_indices:\n",
    "      if len(back_side)<4:\n",
    "        back_side.append(nbr.GetSymbol())\n",
    "        bond = frag.rdmol.GetBondBetweenAtoms(aidx,nidx)\n",
    "        bondo = bond_order(bond.GetBondType())\n",
    "        back_side_bonds.append(bondo)\n",
    "\n",
    "  for i in range(4-len(front_side)):\n",
    "    front_side.append(\"None\")\n",
    "    front_side_bonds.append(0)\n",
    "  for i in range(4-len(back_side)):\n",
    "    back_side.append(\"None\")\n",
    "    back_side_bonds.append(0)\n",
    "\n",
    "  front_side_numbers = [periodic_table_symbol_keys[s] if s in periodic_table_symbol_keys.keys() else -1 for s in front_side]\n",
    "  back_side_numbers = [periodic_table_symbol_keys[s] if s in periodic_table_symbol_keys.keys() else -1 for s in back_side]\n",
    "  front_side = [x for _, x in sorted(zip(front_side_numbers,front_side))]\n",
    "  front_side_bonds = [x for _, x in sorted(zip(front_side_numbers,front_side_bonds))]\n",
    "  \n",
    "  back_side = [x for _, x in sorted(zip(back_side_numbers,back_side))]\n",
    "  back_side_bonds = [x for _, x in sorted(zip(back_side_numbers,back_side_bonds))]\n",
    "  assert(len(front_side)==4)\n",
    "  assert(len(back_side)==4)\n",
    "  front_side_tokens.append(front_side+front_side_bonds)\n",
    "  back_side_tokens.append(back_side+back_side_bonds)"
   ]
  },
  {
   "cell_type": "code",
   "execution_count": 15,
   "id": "august-aging",
   "metadata": {},
   "outputs": [],
   "source": [
    "bond_tokens_fat = []\n",
    "for i,tok in enumerate(bond_tokens):\n",
    "  fs,bs = front_side_tokens[i],back_side_tokens[i]\n",
    "  t = fs+tok+bs\n",
    "    \n",
    "  bond_tokens_fat.append(t)"
   ]
  },
  {
   "cell_type": "code",
   "execution_count": 16,
   "id": "compliant-eclipse",
   "metadata": {},
   "outputs": [],
   "source": [
    "tokens = np.array(bond_tokens_fat)"
   ]
  },
  {
   "cell_type": "code",
   "execution_count": 16,
   "id": "popular-instrument",
   "metadata": {},
   "outputs": [
    {
     "name": "stdout",
     "output_type": "stream",
     "text": [
      "(1856810, 3)\n"
     ]
    }
   ],
   "source": [
    "bond_tokens2 = np.array(bond_tokens)\n",
    "print(bond_tokens2.shape)\n",
    "bond_tokens1 = np.vstack([bond_tokens2[:,0],bond_tokens2[:,2]]).T\n",
    "print(bond_tokens1.shape)"
   ]
  },
  {
   "cell_type": "code",
   "execution_count": 52,
   "id": "dressed-volleyball",
   "metadata": {},
   "outputs": [
    {
     "name": "stdout",
     "output_type": "stream",
     "text": [
      "(2657850, 5)\n",
      "(2657850, 3)\n"
     ]
    }
   ],
   "source": [
    "angle_tokens2 = np.array(angle_tokens)\n",
    "print(angle_tokens2.shape)\n",
    "angle_tokens1 = np.vstack([angle_tokens2[:,0],angle_tokens2[:,2],angle_tokens2[:,4]]).T\n",
    "print(angle_tokens1.shape)"
   ]
  },
  {
   "cell_type": "code",
   "execution_count": 202,
   "id": "internal-tooth",
   "metadata": {},
   "outputs": [],
   "source": []
  },
  {
   "cell_type": "code",
   "execution_count": 17,
   "id": "partial-irrigation",
   "metadata": {},
   "outputs": [
    {
     "name": "stdout",
     "output_type": "stream",
     "text": [
      "[array(['B', 'Br', 'C', 'F', 'H', 'N', 'None', 'O'], dtype='<U4'), array(['B', 'Br', 'C', 'Cl', 'F', 'H', 'N', 'None', 'O'], dtype='<U4'), array(['B', 'Br', 'C', 'Cl', 'F', 'H', 'I', 'N', 'None', 'O', 'P', 'S'],\n",
      "      dtype='<U4'), array(['Br', 'C', 'Cl', 'F', 'I', 'N', 'O', 'P', 'S'], dtype='<U4'), array(['0', '1'], dtype='<U4'), array(['0', '1', '2', '4'], dtype='<U4'), array(['0', '1', '2', '3', '4'], dtype='<U4'), array(['1', '2', '3', '4'], dtype='<U4'), array(['B', 'C', 'F', 'I', 'N', 'O', 'P', 'S'], dtype='<U4'), array(['1', '2', '3', '4'], dtype='<U4'), array(['B', 'Br', 'C', 'Cl', 'F', 'I', 'N', 'O', 'P', 'S'], dtype='<U4'), array(['F', 'None'], dtype='<U4'), array(['B', 'C', 'Cl', 'F', 'H', 'N', 'None', 'O'], dtype='<U4'), array(['B', 'C', 'Cl', 'F', 'H', 'N', 'None', 'O', 'P', 'S'], dtype='<U4'), array(['B', 'Br', 'C', 'Cl', 'F', 'H', 'I', 'N', 'None', 'O', 'P', 'S'],\n",
      "      dtype='<U4'), array(['0', '1'], dtype='<U4'), array(['0', '1'], dtype='<U4'), array(['0', '1', '2', '4'], dtype='<U4'), array(['0', '1', '2', '3', '4'], dtype='<U4')]\n",
      "(32949, 120)\n"
     ]
    }
   ],
   "source": [
    "from sklearn.preprocessing import OneHotEncoder\n",
    "encoder = OneHotEncoder()\n",
    "encoder.fit(tokens)\n",
    "print(encoder.categories_)\n",
    "X = encoder.transform(tokens)\n",
    "print(X.shape)"
   ]
  },
  {
   "cell_type": "code",
   "execution_count": 18,
   "id": "little-impression",
   "metadata": {},
   "outputs": [],
   "source": [
    "# reverse_check = encoder.inverse_transform(X)\n",
    "# assert(np.all(tokens==reverse_check))"
   ]
  },
  {
   "cell_type": "code",
   "execution_count": 19,
   "id": "everyday-revolution",
   "metadata": {},
   "outputs": [],
   "source": [
    "#y =  np.array([frag.properties[\"angle_deg\"] for frag in angle_fragments])\n",
    "y =  np.array([frag.properties[\"bond_length\"] for frag in bond_fragments])"
   ]
  },
  {
   "cell_type": "code",
   "execution_count": 20,
   "id": "tender-school",
   "metadata": {},
   "outputs": [],
   "source": [
    "from sklearn.ensemble import RandomForestRegressor\n",
    "from sklearn.model_selection import train_test_split"
   ]
  },
  {
   "cell_type": "code",
   "execution_count": null,
   "id": "undefined-emergency",
   "metadata": {},
   "outputs": [],
   "source": []
  },
  {
   "cell_type": "code",
   "execution_count": 21,
   "id": "latin-flood",
   "metadata": {},
   "outputs": [],
   "source": [
    "# frags_train, frags_test = [angle_fragments[i] for i in train], [angle_fragments[i] for i in test]\n",
    "# X_train, X_test = X[train],X[test]\n",
    "# y_train, y_test = y[train],y[test]\n",
    "space = np.arange(X.shape[0])\n",
    "train, test = train_test_split(space,test_size=0.2)\n",
    "frags_train, frags_test = [bond_fragments[i] for i in train], [bond_fragments[i] for i in test]\n",
    "#frags_train, frags_test = [angle_fragments[i] for i in train], [angle_fragments[i] for i in test]\n",
    "tokens_train, tokens_test = tokens[train], tokens[test]\n",
    "X_train, X_test = X[train],X[test]\n",
    "y_train, y_test = y[train],y[test]"
   ]
  },
  {
   "cell_type": "code",
   "execution_count": 22,
   "id": "chief-compact",
   "metadata": {},
   "outputs": [],
   "source": [
    "# from numpy import mean\n",
    "# from numpy import std\n",
    "# from sklearn.datasets import make_classification\n",
    "# from sklearn.model_selection import cross_val_score\n",
    "# from sklearn.ensemble import RandomForestClassifier\n",
    "# from matplotlib import pyplot\n",
    " \n",
    "\n",
    "  \n",
    "# # get a list of models to evaluate\n",
    "# def get_models():\n",
    "#   models = dict()\n",
    "#   # define number of trees to consider\n",
    "#   n_trees = [10, 50, 100, 500, 1000]\n",
    "#   for n in n_trees:\n",
    "#     models[str(n)] = RandomForestRegressor(n_estimators=n,min_samples_split=2, random_state=0,n_jobs=-1)\n",
    "#   return models\n",
    " \n",
    "# # get the models to evaluate\n",
    "# models = get_models()\n",
    "# for key,model in models.items():\n",
    "#   model.fit(X_train,y_train)\n",
    "# # evaluate the models and store results\n",
    "# results, names = list(), list()\n",
    "# for name, model in models.items():\n",
    "#   # evaluate the model\n",
    "#   #scores = cross_val_score(model, X_train, y_train, scoring=\"r2\",n_jobs=-1)\n",
    "#   scores = cross_val_score(model, X_test,y_test,scoring=\"r2\",n_jobs=-1)\n",
    "#   # store the results\n",
    "#   results.append(scores)\n",
    "#   names.append(name)\n",
    "#   # summarize the performance along the way\n",
    "#   print('>%s %.3f (%.3f)' % (name, mean(scores), std(scores)))\n",
    "# # plot model performance for comparison\n",
    "# pyplot.boxplot(results, labels=names, showmeans=True)\n",
    "# pyplot.show()"
   ]
  },
  {
   "cell_type": "code",
   "execution_count": 23,
   "id": "indonesian-scratch",
   "metadata": {},
   "outputs": [],
   "source": [
    "regressor = RandomForestRegressor(n_estimators=100,min_samples_split=2, random_state=0,n_jobs=-1)"
   ]
  },
  {
   "cell_type": "code",
   "execution_count": 24,
   "id": "fitting-center",
   "metadata": {},
   "outputs": [
    {
     "name": "stdout",
     "output_type": "stream",
     "text": [
      "CPU times: user 40.7 s, sys: 291 ms, total: 41 s\n",
      "Wall time: 1.18 s\n"
     ]
    },
    {
     "data": {
      "text/plain": [
       "RandomForestRegressor(n_jobs=-1, random_state=0)"
      ]
     },
     "execution_count": 24,
     "metadata": {},
     "output_type": "execute_result"
    }
   ],
   "source": [
    "%%time\n",
    "regressor.fit(X_train,y_train)"
   ]
  },
  {
   "cell_type": "code",
   "execution_count": 25,
   "id": "caring-flight",
   "metadata": {},
   "outputs": [],
   "source": [
    "y_pred = regressor.predict(X_test)"
   ]
  },
  {
   "cell_type": "code",
   "execution_count": 26,
   "id": "increasing-shift",
   "metadata": {},
   "outputs": [
    {
     "data": {
      "text/plain": [
       "Text(0, 0.5, 'Predicted')"
      ]
     },
     "execution_count": 26,
     "metadata": {},
     "output_type": "execute_result"
    },
    {
     "data": {
      "image/png": "[encoded data removed]",
      "text/plain": [
       "<Figure size 432x288 with 1 Axes>"
      ]
     },
     "metadata": {
      "needs_background": "light"
     },
     "output_type": "display_data"
    }
   ],
   "source": [
    "mode = \"bond\"\n",
    "df = pd.DataFrame({\"dists\":y_test.flatten(),\"pred\":y_pred.flatten()})\n",
    "ax = df.plot.scatter(\"dists\",\"pred\",s=0.25)\n",
    "if mode == \"bond\":\n",
    "  ax.set_xlim(1,1.8)\n",
    "  ax.set_ylim(1,1.8)\n",
    "elif mode == \"angle\":\n",
    "  ax.set_xlim(50,140)\n",
    "  ax.set_ylim(50,140)\n",
    "ax.plot([0,200],[0,200],color=\"black\")\n",
    "ax.set_xlabel(\"Experimental\",fontsize=14)\n",
    "ax.set_ylabel(\"Predicted\",fontsize=14)"
   ]
  },
  {
   "cell_type": "code",
   "execution_count": 29,
   "id": "daily-reading",
   "metadata": {},
   "outputs": [
    {
     "ename": "NameError",
     "evalue": "name 'export_graphviz' is not defined",
     "output_type": "error",
     "traceback": [
      "\u001b[0;31m---------------------------------------------------------------------------\u001b[0m",
      "\u001b[0;31mNameError\u001b[0m                                 Traceback (most recent call last)",
      "\u001b[0;32m<ipython-input-29-0efccce8a890>\u001b[0m in \u001b[0;36m<module>\u001b[0;34m\u001b[0m\n\u001b[0;32m----> 1\u001b[0;31m \u001b[0mexport_graphviz\u001b[0m\u001b[0;34m\u001b[0m\u001b[0;34m\u001b[0m\u001b[0m\n\u001b[0m",
      "\u001b[0;31mNameError\u001b[0m: name 'export_graphviz' is not defined"
     ]
    }
   ],
   "source": [
    "export_graphviz"
   ]
  },
  {
   "cell_type": "code",
   "execution_count": 31,
   "id": "touched-providence",
   "metadata": {},
   "outputs": [
    {
     "ename": "NameError",
     "evalue": "name 'iris' is not defined",
     "output_type": "error",
     "traceback": [
      "\u001b[0;31m---------------------------------------------------------------------------\u001b[0m",
      "\u001b[0;31mNameError\u001b[0m                                 Traceback (most recent call last)",
      "\u001b[0;32m<ipython-input-31-9285c3c9836f>\u001b[0m in \u001b[0;36m<module>\u001b[0;34m\u001b[0m\n\u001b[1;32m      6\u001b[0m \u001b[0;31m# Export as dot file\u001b[0m\u001b[0;34m\u001b[0m\u001b[0;34m\u001b[0m\u001b[0;34m\u001b[0m\u001b[0m\n\u001b[1;32m      7\u001b[0m export_graphviz(estimator, out_file='tree.dot', \n\u001b[0;32m----> 8\u001b[0;31m                 \u001b[0mfeature_names\u001b[0m \u001b[0;34m=\u001b[0m \u001b[0miris\u001b[0m\u001b[0;34m.\u001b[0m\u001b[0mfeature_names\u001b[0m\u001b[0;34m,\u001b[0m\u001b[0;34m\u001b[0m\u001b[0;34m\u001b[0m\u001b[0m\n\u001b[0m\u001b[1;32m      9\u001b[0m                 \u001b[0mclass_names\u001b[0m \u001b[0;34m=\u001b[0m \u001b[0miris\u001b[0m\u001b[0;34m.\u001b[0m\u001b[0mtarget_names\u001b[0m\u001b[0;34m,\u001b[0m\u001b[0;34m\u001b[0m\u001b[0;34m\u001b[0m\u001b[0m\n\u001b[1;32m     10\u001b[0m                 \u001b[0mrounded\u001b[0m \u001b[0;34m=\u001b[0m \u001b[0;32mTrue\u001b[0m\u001b[0;34m,\u001b[0m \u001b[0mproportion\u001b[0m \u001b[0;34m=\u001b[0m \u001b[0;32mFalse\u001b[0m\u001b[0;34m,\u001b[0m\u001b[0;34m\u001b[0m\u001b[0;34m\u001b[0m\u001b[0m\n",
      "\u001b[0;31mNameError\u001b[0m: name 'iris' is not defined"
     ]
    }
   ],
   "source": [
    "\n",
    "\n",
    "# Model (can also use single decision tree)\n",
    "model = regressor\n",
    "estimator = model.estimators_[5]\n",
    "\n",
    "from sklearn.tree import export_graphviz\n",
    "# Export as dot file\n",
    "export_graphviz(estimator, out_file='tree.dot', \n",
    "                feature_names = iris.feature_names,\n",
    "                class_names = iris.target_names,\n",
    "                rounded = True, proportion = False, \n",
    "                precision = 2, filled = True)\n",
    "\n",
    "# Convert to png using system command (requires Graphviz)\n",
    "from subprocess import call\n",
    "call(['dot', '-Tpng', 'tree.dot', '-o', 'tree.png', '-Gdpi=600'])\n",
    "\n"
   ]
  },
  {
   "cell_type": "code",
   "execution_count": 32,
   "id": "rapid-wages",
   "metadata": {},
   "outputs": [],
   "source": [
    "from sklearn.tree import export_text"
   ]
  },
  {
   "cell_type": "code",
   "execution_count": 36,
   "id": "pediatric-birthday",
   "metadata": {},
   "outputs": [
    {
     "name": "stdout",
     "output_type": "stream",
     "text": [
      "|--- feature_61 <= 0.50\n",
      "|   |--- feature_103 <= 0.50\n",
      "|   |   |--- feature_74 <= 0.50\n",
      "|   |   |   |--- feature_59 <= 0.50\n",
      "|   |   |   |   |--- feature_48 <= 0.50\n",
      "|   |   |   |   |   |--- feature_73 <= 0.50\n",
      "|   |   |   |   |   |   |--- feature_63 <= 0.50\n",
      "|   |   |   |   |   |   |   |--- feature_53 <= 0.50\n",
      "|   |   |   |   |   |   |   |   |--- feature_71 <= 0.50\n",
      "|   |   |   |   |   |   |   |   |   |--- feature_119 <= 0.50\n",
      "|   |   |   |   |   |   |   |   |   |   |--- feature_100 <= 0.50\n",
      "|   |   |   |   |   |   |   |   |   |   |   |--- truncated branch of depth 11\n",
      "|   |   |   |   |   |   |   |   |   |   |--- feature_100 >  0.50\n",
      "|   |   |   |   |   |   |   |   |   |   |   |--- truncated branch of depth 6\n",
      "|   |   |   |   |   |   |   |   |   |--- feature_119 >  0.50\n",
      "|   |   |   |   |   |   |   |   |   |   |--- feature_30 <= 0.50\n",
      "|   |   |   |   |   |   |   |   |   |   |   |--- truncated branch of depth 6\n",
      "|   |   |   |   |   |   |   |   |   |   |--- feature_30 >  0.50\n",
      "|   |   |   |   |   |   |   |   |   |   |   |--- truncated branch of depth 2\n",
      "|   |   |   |   |   |   |   |   |--- feature_71 >  0.50\n",
      "|   |   |   |   |   |   |   |   |   |--- feature_54 <= 0.50\n",
      "|   |   |   |   |   |   |   |   |   |   |--- feature_97 <= 0.50\n",
      "|   |   |   |   |   |   |   |   |   |   |   |--- value: [1.23]\n",
      "|   |   |   |   |   |   |   |   |   |   |--- feature_97 >  0.50\n",
      "|   |   |   |   |   |   |   |   |   |   |   |--- value: [1.26]\n",
      "|   |   |   |   |   |   |   |   |   |--- feature_54 >  0.50\n",
      "|   |   |   |   |   |   |   |   |   |   |--- feature_97 <= 0.50\n",
      "|   |   |   |   |   |   |   |   |   |   |   |--- truncated branch of depth 5\n",
      "|   |   |   |   |   |   |   |   |   |   |--- feature_97 >  0.50\n",
      "|   |   |   |   |   |   |   |   |   |   |   |--- truncated branch of depth 7\n",
      "|   |   |   |   |   |   |   |--- feature_53 >  0.50\n",
      "|   |   |   |   |   |   |   |   |--- feature_35 <= 0.50\n",
      "|   |   |   |   |   |   |   |   |   |--- value: [1.54]\n",
      "|   |   |   |   |   |   |   |   |--- feature_35 >  0.50\n",
      "|   |   |   |   |   |   |   |   |   |--- value: [1.58]\n",
      "|   |   |   |   |   |   |--- feature_63 >  0.50\n",
      "|   |   |   |   |   |   |   |--- feature_97 <= 0.50\n",
      "|   |   |   |   |   |   |   |   |--- value: [1.18]\n",
      "|   |   |   |   |   |   |   |--- feature_97 >  0.50\n",
      "|   |   |   |   |   |   |   |   |--- feature_22 <= 0.50\n",
      "|   |   |   |   |   |   |   |   |   |--- value: [1.20]\n",
      "|   |   |   |   |   |   |   |   |--- feature_22 >  0.50\n",
      "|   |   |   |   |   |   |   |   |   |--- value: [1.18]\n",
      "|   |   |   |   |   |--- feature_73 >  0.50\n",
      "|   |   |   |   |   |   |--- feature_25 <= 0.50\n",
      "|   |   |   |   |   |   |   |--- value: [1.79]\n",
      "|   |   |   |   |   |   |--- feature_25 >  0.50\n",
      "|   |   |   |   |   |   |   |--- feature_84 <= 0.50\n",
      "|   |   |   |   |   |   |   |   |--- feature_104 <= 0.50\n",
      "|   |   |   |   |   |   |   |   |   |--- value: [1.49]\n",
      "|   |   |   |   |   |   |   |   |--- feature_104 >  0.50\n",
      "|   |   |   |   |   |   |   |   |   |--- value: [1.51]\n",
      "|   |   |   |   |   |   |   |--- feature_84 >  0.50\n",
      "|   |   |   |   |   |   |   |   |--- value: [1.46]\n",
      "|   |   |   |   |--- feature_48 >  0.50\n",
      "|   |   |   |   |   |--- feature_71 <= 0.50\n",
      "|   |   |   |   |   |   |--- feature_86 <= 0.50\n",
      "|   |   |   |   |   |   |   |--- feature_13 <= 0.50\n",
      "|   |   |   |   |   |   |   |   |--- feature_30 <= 0.50\n",
      "|   |   |   |   |   |   |   |   |   |--- feature_34 <= 0.50\n",
      "|   |   |   |   |   |   |   |   |   |   |--- feature_50 <= 0.50\n",
      "|   |   |   |   |   |   |   |   |   |   |   |--- truncated branch of depth 12\n",
      "|   |   |   |   |   |   |   |   |   |   |--- feature_50 >  0.50\n",
      "|   |   |   |   |   |   |   |   |   |   |   |--- value: [1.42]\n",
      "|   |   |   |   |   |   |   |   |   |--- feature_34 >  0.50\n",
      "|   |   |   |   |   |   |   |   |   |   |--- feature_102 <= 0.50\n",
      "|   |   |   |   |   |   |   |   |   |   |   |--- truncated branch of depth 4\n",
      "|   |   |   |   |   |   |   |   |   |   |--- feature_102 >  0.50\n",
      "|   |   |   |   |   |   |   |   |   |   |   |--- value: [1.44]\n",
      "|   |   |   |   |   |   |   |   |--- feature_30 >  0.50\n",
      "|   |   |   |   |   |   |   |   |   |--- feature_43 <= 0.50\n",
      "|   |   |   |   |   |   |   |   |   |   |--- feature_104 <= 0.50\n",
      "|   |   |   |   |   |   |   |   |   |   |   |--- truncated branch of depth 8\n",
      "|   |   |   |   |   |   |   |   |   |   |--- feature_104 >  0.50\n",
      "|   |   |   |   |   |   |   |   |   |   |   |--- value: [1.35]\n",
      "|   |   |   |   |   |   |   |   |   |--- feature_43 >  0.50\n",
      "|   |   |   |   |   |   |   |   |   |   |--- feature_102 <= 0.50\n",
      "|   |   |   |   |   |   |   |   |   |   |   |--- truncated branch of depth 3\n",
      "|   |   |   |   |   |   |   |   |   |   |--- feature_102 >  0.50\n",
      "|   |   |   |   |   |   |   |   |   |   |   |--- value: [1.46]\n",
      "|   |   |   |   |   |   |   |--- feature_13 >  0.50\n",
      "|   |   |   |   |   |   |   |   |--- feature_104 <= 0.50\n",
      "|   |   |   |   |   |   |   |   |   |--- feature_35 <= 0.50\n",
      "|   |   |   |   |   |   |   |   |   |   |--- feature_106 <= 0.50\n",
      "|   |   |   |   |   |   |   |   |   |   |   |--- truncated branch of depth 6\n",
      "|   |   |   |   |   |   |   |   |   |   |--- feature_106 >  0.50\n",
      "|   |   |   |   |   |   |   |   |   |   |   |--- value: [1.35]\n",
      "|   |   |   |   |   |   |   |   |   |--- feature_35 >  0.50\n",
      "|   |   |   |   |   |   |   |   |   |   |--- feature_91 <= 0.50\n",
      "|   |   |   |   |   |   |   |   |   |   |   |--- value: [1.33]\n",
      "|   |   |   |   |   |   |   |   |   |   |--- feature_91 >  0.50\n",
      "|   |   |   |   |   |   |   |   |   |   |   |--- value: [1.36]\n",
      "|   |   |   |   |   |   |   |   |--- feature_104 >  0.50\n",
      "|   |   |   |   |   |   |   |   |   |--- feature_116 <= 0.50\n",
      "|   |   |   |   |   |   |   |   |   |   |--- value: [1.32]\n",
      "|   |   |   |   |   |   |   |   |   |--- feature_116 >  0.50\n",
      "|   |   |   |   |   |   |   |   |   |   |--- value: [1.38]\n",
      "|   |   |   |   |   |   |--- feature_86 >  0.50\n",
      "|   |   |   |   |   |   |   |--- feature_13 <= 0.50\n",
      "|   |   |   |   |   |   |   |   |--- feature_116 <= 0.50\n",
      "|   |   |   |   |   |   |   |   |   |--- feature_114 <= 0.50\n",
      "|   |   |   |   |   |   |   |   |   |   |--- feature_53 <= 0.50\n",
      "|   |   |   |   |   |   |   |   |   |   |   |--- truncated branch of depth 14\n",
      "|   |   |   |   |   |   |   |   |   |   |--- feature_53 >  0.50\n",
      "|   |   |   |   |   |   |   |   |   |   |   |--- value: [1.56]\n",
      "|   |   |   |   |   |   |   |   |   |--- feature_114 >  0.50\n",
      "|   |   |   |   |   |   |   |   |   |   |--- feature_106 <= 0.50\n",
      "|   |   |   |   |   |   |   |   |   |   |   |--- truncated branch of depth 13\n",
      "|   |   |   |   |   |   |   |   |   |   |--- feature_106 >  0.50\n",
      "|   |   |   |   |   |   |   |   |   |   |   |--- truncated branch of depth 3\n",
      "|   |   |   |   |   |   |   |   |--- feature_116 >  0.50\n",
      "|   |   |   |   |   |   |   |   |   |--- feature_99 <= 0.50\n",
      "|   |   |   |   |   |   |   |   |   |   |--- feature_50 <= 0.50\n",
      "|   |   |   |   |   |   |   |   |   |   |   |--- truncated branch of depth 15\n",
      "|   |   |   |   |   |   |   |   |   |   |--- feature_50 >  0.50\n",
      "|   |   |   |   |   |   |   |   |   |   |   |--- truncated branch of depth 2\n",
      "|   |   |   |   |   |   |   |   |   |--- feature_99 >  0.50\n",
      "|   |   |   |   |   |   |   |   |   |   |--- feature_30 <= 0.50\n",
      "|   |   |   |   |   |   |   |   |   |   |   |--- truncated branch of depth 4\n",
      "|   |   |   |   |   |   |   |   |   |   |--- feature_30 >  0.50\n",
      "|   |   |   |   |   |   |   |   |   |   |   |--- truncated branch of depth 2\n",
      "|   |   |   |   |   |   |   |--- feature_13 >  0.50\n",
      "|   |   |   |   |   |   |   |   |--- feature_97 <= 0.50\n",
      "|   |   |   |   |   |   |   |   |   |--- feature_96 <= 0.50\n",
      "|   |   |   |   |   |   |   |   |   |   |--- feature_30 <= 0.50\n",
      "|   |   |   |   |   |   |   |   |   |   |   |--- value: [1.43]\n",
      "|   |   |   |   |   |   |   |   |   |   |--- feature_30 >  0.50\n",
      "|   |   |   |   |   |   |   |   |   |   |   |--- truncated branch of depth 9\n",
      "|   |   |   |   |   |   |   |   |   |--- feature_96 >  0.50\n",
      "|   |   |   |   |   |   |   |   |   |   |--- value: [1.37]\n",
      "|   |   |   |   |   |   |   |   |--- feature_97 >  0.50\n",
      "|   |   |   |   |   |   |   |   |   |--- feature_112 <= 0.50\n",
      "|   |   |   |   |   |   |   |   |   |   |--- feature_114 <= 0.50\n",
      "|   |   |   |   |   |   |   |   |   |   |   |--- value: [1.41]\n",
      "|   |   |   |   |   |   |   |   |   |   |--- feature_114 >  0.50\n",
      "|   |   |   |   |   |   |   |   |   |   |   |--- value: [1.41]\n",
      "|   |   |   |   |   |   |   |   |   |--- feature_112 >  0.50\n",
      "|   |   |   |   |   |   |   |   |   |   |--- value: [1.39]\n",
      "|   |   |   |   |   |--- feature_71 >  0.50\n",
      "|   |   |   |   |   |   |--- feature_91 <= 0.50\n",
      "|   |   |   |   |   |   |   |--- feature_34 <= 0.50\n",
      "|   |   |   |   |   |   |   |   |--- feature_14 <= 0.50\n",
      "|   |   |   |   |   |   |   |   |   |--- value: [1.42]\n",
      "|   |   |   |   |   |   |   |   |--- feature_14 >  0.50\n",
      "|   |   |   |   |   |   |   |   |   |--- value: [1.41]\n",
      "|   |   |   |   |   |   |   |--- feature_34 >  0.50\n",
      "|   |   |   |   |   |   |   |   |--- feature_114 <= 0.50\n",
      "|   |   |   |   |   |   |   |   |   |--- feature_43 <= 0.50\n",
      "|   |   |   |   |   |   |   |   |   |   |--- feature_19 <= 0.50\n",
      "|   |   |   |   |   |   |   |   |   |   |   |--- value: [1.38]\n",
      "|   |   |   |   |   |   |   |   |   |   |--- feature_19 >  0.50\n",
      "|   |   |   |   |   |   |   |   |   |   |   |--- value: [1.37]\n",
      "|   |   |   |   |   |   |   |   |   |--- feature_43 >  0.50\n",
      "|   |   |   |   |   |   |   |   |   |   |--- value: [1.40]\n",
      "|   |   |   |   |   |   |   |   |--- feature_114 >  0.50\n",
      "|   |   |   |   |   |   |   |   |   |--- feature_102 <= 0.50\n",
      "|   |   |   |   |   |   |   |   |   |   |--- feature_19 <= 0.50\n",
      "|   |   |   |   |   |   |   |   |   |   |   |--- truncated branch of depth 2\n",
      "|   |   |   |   |   |   |   |   |   |   |--- feature_19 >  0.50\n",
      "|   |   |   |   |   |   |   |   |   |   |   |--- truncated branch of depth 3\n",
      "|   |   |   |   |   |   |   |   |   |--- feature_102 >  0.50\n",
      "|   |   |   |   |   |   |   |   |   |   |--- feature_43 <= 0.50\n",
      "|   |   |   |   |   |   |   |   |   |   |   |--- value: [1.40]\n",
      "|   |   |   |   |   |   |   |   |   |   |--- feature_43 >  0.50\n",
      "|   |   |   |   |   |   |   |   |   |   |   |--- value: [1.38]\n",
      "|   |   |   |   |   |   |--- feature_91 >  0.50\n",
      "|   |   |   |   |   |   |   |--- feature_19 <= 0.50\n",
      "|   |   |   |   |   |   |   |   |--- feature_97 <= 0.50\n",
      "|   |   |   |   |   |   |   |   |   |--- value: [1.30]\n",
      "|   |   |   |   |   |   |   |   |--- feature_97 >  0.50\n",
      "|   |   |   |   |   |   |   |   |   |--- feature_34 <= 0.50\n",
      "|   |   |   |   |   |   |   |   |   |   |--- feature_43 <= 0.50\n",
      "|   |   |   |   |   |   |   |   |   |   |   |--- truncated branch of depth 3\n",
      "|   |   |   |   |   |   |   |   |   |   |--- feature_43 >  0.50\n",
      "|   |   |   |   |   |   |   |   |   |   |   |--- truncated branch of depth 4\n",
      "|   |   |   |   |   |   |   |   |   |--- feature_34 >  0.50\n",
      "|   |   |   |   |   |   |   |   |   |   |--- feature_10 <= 0.50\n",
      "|   |   |   |   |   |   |   |   |   |   |   |--- truncated branch of depth 3\n",
      "|   |   |   |   |   |   |   |   |   |   |--- feature_10 >  0.50\n",
      "|   |   |   |   |   |   |   |   |   |   |   |--- truncated branch of depth 2\n",
      "|   |   |   |   |   |   |   |--- feature_19 >  0.50\n",
      "|   |   |   |   |   |   |   |   |--- feature_10 <= 0.50\n",
      "|   |   |   |   |   |   |   |   |   |--- feature_102 <= 0.50\n",
      "|   |   |   |   |   |   |   |   |   |   |--- feature_54 <= 0.50\n",
      "|   |   |   |   |   |   |   |   |   |   |   |--- value: [1.33]\n",
      "|   |   |   |   |   |   |   |   |   |   |--- feature_54 >  0.50\n",
      "|   |   |   |   |   |   |   |   |   |   |   |--- truncated branch of depth 2\n",
      "|   |   |   |   |   |   |   |   |   |--- feature_102 >  0.50\n",
      "|   |   |   |   |   |   |   |   |   |   |--- value: [1.32]\n",
      "|   |   |   |   |   |   |   |   |--- feature_10 >  0.50\n",
      "|   |   |   |   |   |   |   |   |   |--- feature_104 <= 0.50\n",
      "|   |   |   |   |   |   |   |   |   |   |--- feature_41 <= 0.50\n",
      "|   |   |   |   |   |   |   |   |   |   |   |--- truncated branch of depth 3\n",
      "|   |   |   |   |   |   |   |   |   |   |--- feature_41 >  0.50\n",
      "|   |   |   |   |   |   |   |   |   |   |   |--- truncated branch of depth 2\n",
      "|   |   |   |   |   |   |   |   |   |--- feature_104 >  0.50\n",
      "|   |   |   |   |   |   |   |   |   |   |--- value: [1.31]\n",
      "|   |   |   |--- feature_59 >  0.50\n",
      "|   |   |   |   |--- value: [2.23]\n",
      "|   |   |--- feature_74 >  0.50\n",
      "|   |   |   |--- feature_117 <= 0.50\n",
      "|   |   |   |   |--- feature_54 <= 0.50\n",
      "|   |   |   |   |   |--- feature_19 <= 0.50\n",
      "|   |   |   |   |   |   |--- value: [1.66]\n",
      "|   |   |   |   |   |--- feature_19 >  0.50\n",
      "|   |   |   |   |   |   |--- value: [1.67]\n",
      "|   |   |   |   |--- feature_54 >  0.50\n",
      "|   |   |   |   |   |--- feature_13 <= 0.50\n",
      "|   |   |   |   |   |   |--- feature_43 <= 0.50\n",
      "|   |   |   |   |   |   |   |--- feature_19 <= 0.50\n",
      "|   |   |   |   |   |   |   |   |--- feature_46 <= 0.50\n",
      "|   |   |   |   |   |   |   |   |   |--- feature_28 <= 0.50\n",
      "|   |   |   |   |   |   |   |   |   |   |--- feature_102 <= 0.50\n",
      "|   |   |   |   |   |   |   |   |   |   |   |--- truncated branch of depth 3\n",
      "|   |   |   |   |   |   |   |   |   |   |--- feature_102 >  0.50\n",
      "|   |   |   |   |   |   |   |   |   |   |   |--- value: [1.74]\n",
      "|   |   |   |   |   |   |   |   |   |--- feature_28 >  0.50\n",
      "|   |   |   |   |   |   |   |   |   |   |--- value: [1.76]\n",
      "|   |   |   |   |   |   |   |   |--- feature_46 >  0.50\n",
      "|   |   |   |   |   |   |   |   |   |--- value: [1.71]\n",
      "|   |   |   |   |   |   |   |--- feature_19 >  0.50\n",
      "|   |   |   |   |   |   |   |   |--- feature_102 <= 0.50\n",
      "|   |   |   |   |   |   |   |   |   |--- feature_10 <= 0.50\n",
      "|   |   |   |   |   |   |   |   |   |   |--- value: [1.72]\n",
      "|   |   |   |   |   |   |   |   |   |--- feature_10 >  0.50\n",
      "|   |   |   |   |   |   |   |   |   |   |--- value: [1.73]\n",
      "|   |   |   |   |   |   |   |   |--- feature_102 >  0.50\n",
      "|   |   |   |   |   |   |   |   |   |--- value: [1.70]\n",
      "|   |   |   |   |   |   |--- feature_43 >  0.50\n",
      "|   |   |   |   |   |   |   |--- feature_28 <= 0.50\n",
      "|   |   |   |   |   |   |   |   |--- feature_24 <= 0.50\n",
      "|   |   |   |   |   |   |   |   |   |--- feature_26 <= 0.50\n",
      "|   |   |   |   |   |   |   |   |   |   |--- value: [1.74]\n",
      "|   |   |   |   |   |   |   |   |   |--- feature_26 >  0.50\n",
      "|   |   |   |   |   |   |   |   |   |   |--- value: [1.75]\n",
      "|   |   |   |   |   |   |   |   |--- feature_24 >  0.50\n",
      "|   |   |   |   |   |   |   |   |   |--- value: [1.73]\n",
      "|   |   |   |   |   |   |   |--- feature_28 >  0.50\n",
      "|   |   |   |   |   |   |   |   |--- value: [1.76]\n",
      "|   |   |   |   |   |--- feature_13 >  0.50\n",
      "|   |   |   |   |   |   |--- value: [1.71]\n",
      "|   |   |   |--- feature_117 >  0.50\n",
      "|   |   |   |   |--- feature_84 <= 0.50\n",
      "|   |   |   |   |   |--- feature_92 <= 0.50\n",
      "|   |   |   |   |   |   |--- feature_86 <= 0.50\n",
      "|   |   |   |   |   |   |   |--- feature_82 <= 0.50\n",
      "|   |   |   |   |   |   |   |   |--- value: [1.43]\n",
      "|   |   |   |   |   |   |   |--- feature_82 >  0.50\n",
      "|   |   |   |   |   |   |   |   |--- value: [1.42]\n",
      "|   |   |   |   |   |   |--- feature_86 >  0.50\n",
      "|   |   |   |   |   |   |   |--- value: [1.44]\n",
      "|   |   |   |   |   |--- feature_92 >  0.50\n",
      "|   |   |   |   |   |   |--- feature_82 <= 0.50\n",
      "|   |   |   |   |   |   |   |--- value: [1.42]\n",
      "|   |   |   |   |   |   |--- feature_82 >  0.50\n",
      "|   |   |   |   |   |   |   |--- value: [1.41]\n",
      "|   |   |   |   |--- feature_84 >  0.50\n",
      "|   |   |   |   |   |--- value: [1.45]\n",
      "|   |--- feature_103 >  0.50\n",
      "|   |   |--- feature_74 <= 0.50\n",
      "|   |   |   |--- feature_15 <= 0.50\n",
      "|   |   |   |   |--- feature_26 <= 0.50\n",
      "|   |   |   |   |   |--- feature_71 <= 0.50\n",
      "|   |   |   |   |   |   |--- feature_14 <= 0.50\n",
      "|   |   |   |   |   |   |   |--- feature_10 <= 0.50\n",
      "|   |   |   |   |   |   |   |   |--- feature_24 <= 0.50\n",
      "|   |   |   |   |   |   |   |   |   |--- value: [1.20]\n",
      "|   |   |   |   |   |   |   |   |--- feature_24 >  0.50\n",
      "|   |   |   |   |   |   |   |   |   |--- value: [1.22]\n",
      "|   |   |   |   |   |   |   |--- feature_10 >  0.50\n",
      "|   |   |   |   |   |   |   |   |--- feature_24 <= 0.50\n",
      "|   |   |   |   |   |   |   |   |   |--- feature_43 <= 0.50\n",
      "|   |   |   |   |   |   |   |   |   |   |--- value: [1.22]\n",
      "|   |   |   |   |   |   |   |   |   |--- feature_43 >  0.50\n",
      "|   |   |   |   |   |   |   |   |   |   |--- value: [1.24]\n",
      "|   |   |   |   |   |   |   |   |--- feature_24 >  0.50\n",
      "|   |   |   |   |   |   |   |   |   |--- feature_48 <= 0.50\n",
      "|   |   |   |   |   |   |   |   |   |   |--- value: [1.22]\n",
      "|   |   |   |   |   |   |   |   |   |--- feature_48 >  0.50\n",
      "|   |   |   |   |   |   |   |   |   |   |--- value: [1.21]\n",
      "|   |   |   |   |   |   |--- feature_14 >  0.50\n",
      "|   |   |   |   |   |   |   |--- value: [1.24]\n",
      "|   |   |   |   |   |--- feature_71 >  0.50\n",
      "|   |   |   |   |   |   |--- feature_35 <= 0.50\n",
      "|   |   |   |   |   |   |   |--- value: [1.29]\n",
      "|   |   |   |   |   |   |--- feature_35 >  0.50\n",
      "|   |   |   |   |   |   |   |--- value: [1.34]\n",
      "|   |   |   |   |--- feature_26 >  0.50\n",
      "|   |   |   |   |   |--- feature_54 <= 0.50\n",
      "|   |   |   |   |   |   |--- feature_14 <= 0.50\n",
      "|   |   |   |   |   |   |   |--- feature_10 <= 0.50\n",
      "|   |   |   |   |   |   |   |   |--- value: [1.23]\n",
      "|   |   |   |   |   |   |   |--- feature_10 >  0.50\n",
      "|   |   |   |   |   |   |   |   |--- value: [1.22]\n",
      "|   |   |   |   |   |   |--- feature_14 >  0.50\n",
      "|   |   |   |   |   |   |   |--- value: [1.21]\n",
      "|   |   |   |   |   |--- feature_54 >  0.50\n",
      "|   |   |   |   |   |   |--- feature_16 <= 0.50\n",
      "|   |   |   |   |   |   |   |--- feature_37 <= 0.50\n",
      "|   |   |   |   |   |   |   |   |--- feature_49 <= 0.50\n",
      "|   |   |   |   |   |   |   |   |   |--- feature_14 <= 0.50\n",
      "|   |   |   |   |   |   |   |   |   |   |--- value: [1.21]\n",
      "|   |   |   |   |   |   |   |   |   |--- feature_14 >  0.50\n",
      "|   |   |   |   |   |   |   |   |   |   |--- value: [1.21]\n",
      "|   |   |   |   |   |   |   |   |--- feature_49 >  0.50\n",
      "|   |   |   |   |   |   |   |   |   |--- value: [1.19]\n",
      "|   |   |   |   |   |   |   |--- feature_37 >  0.50\n",
      "|   |   |   |   |   |   |   |   |--- value: [1.23]\n",
      "|   |   |   |   |   |   |--- feature_16 >  0.50\n",
      "|   |   |   |   |   |   |   |--- value: [1.19]\n",
      "|   |   |   |--- feature_15 >  0.50\n",
      "|   |   |   |   |--- feature_72 <= 0.50\n",
      "|   |   |   |   |   |--- feature_35 <= 0.50\n",
      "|   |   |   |   |   |   |--- feature_46 <= 0.50\n",
      "|   |   |   |   |   |   |   |--- feature_45 <= 0.50\n",
      "|   |   |   |   |   |   |   |   |--- value: [1.15]\n",
      "|   |   |   |   |   |   |   |--- feature_45 >  0.50\n",
      "|   |   |   |   |   |   |   |   |--- value: [1.14]\n",
      "|   |   |   |   |   |   |--- feature_46 >  0.50\n",
      "|   |   |   |   |   |   |   |--- value: [1.13]\n",
      "|   |   |   |   |   |--- feature_35 >  0.50\n",
      "|   |   |   |   |   |   |--- value: [1.12]\n",
      "|   |   |   |   |--- feature_72 >  0.50\n",
      "|   |   |   |   |   |--- feature_19 <= 0.50\n",
      "|   |   |   |   |   |   |--- feature_24 <= 0.50\n",
      "|   |   |   |   |   |   |   |--- value: [1.24]\n",
      "|   |   |   |   |   |   |--- feature_24 >  0.50\n",
      "|   |   |   |   |   |   |   |--- value: [1.23]\n",
      "|   |   |   |   |   |--- feature_19 >  0.50\n",
      "|   |   |   |   |   |   |--- value: [1.23]\n",
      "|   |   |--- feature_74 >  0.50\n",
      "|   |   |   |--- feature_14 <= 0.50\n",
      "|   |   |   |   |--- feature_19 <= 0.50\n",
      "|   |   |   |   |   |--- value: [1.64]\n",
      "|   |   |   |   |--- feature_19 >  0.50\n",
      "|   |   |   |   |   |--- value: [1.65]\n",
      "|   |   |   |--- feature_14 >  0.50\n",
      "|   |   |   |   |--- feature_26 <= 0.50\n",
      "|   |   |   |   |   |--- value: [1.66]\n",
      "|   |   |   |   |--- feature_26 >  0.50\n",
      "|   |   |   |   |   |--- value: [1.65]\n",
      "|--- feature_61 >  0.50\n",
      "|   |--- feature_72 <= 0.50\n",
      "|   |   |--- feature_74 <= 0.50\n",
      "|   |   |   |--- feature_66 <= 0.50\n",
      "|   |   |   |   |--- feature_71 <= 0.50\n",
      "|   |   |   |   |   |--- feature_70 <= 0.50\n",
      "|   |   |   |   |   |   |--- feature_31 <= 0.50\n",
      "|   |   |   |   |   |   |   |--- feature_69 <= 0.50\n",
      "|   |   |   |   |   |   |   |   |--- feature_43 <= 0.50\n",
      "|   |   |   |   |   |   |   |   |   |--- feature_110 <= 0.50\n",
      "|   |   |   |   |   |   |   |   |   |   |--- feature_6 <= 0.50\n",
      "|   |   |   |   |   |   |   |   |   |   |   |--- truncated branch of depth 16\n",
      "|   |   |   |   |   |   |   |   |   |   |--- feature_6 >  0.50\n",
      "|   |   |   |   |   |   |   |   |   |   |   |--- truncated branch of depth 21\n",
      "|   |   |   |   |   |   |   |   |   |--- feature_110 >  0.50\n",
      "|   |   |   |   |   |   |   |   |   |   |--- feature_67 <= 0.50\n",
      "|   |   |   |   |   |   |   |   |   |   |   |--- truncated branch of depth 11\n",
      "|   |   |   |   |   |   |   |   |   |   |--- feature_67 >  0.50\n",
      "|   |   |   |   |   |   |   |   |   |   |   |--- truncated branch of depth 17\n",
      "|   |   |   |   |   |   |   |   |--- feature_43 >  0.50\n",
      "|   |   |   |   |   |   |   |   |   |--- feature_73 <= 0.50\n",
      "|   |   |   |   |   |   |   |   |   |   |--- value: [1.37]\n",
      "|   |   |   |   |   |   |   |   |   |--- feature_73 >  0.50\n",
      "|   |   |   |   |   |   |   |   |   |   |--- feature_83 <= 0.50\n",
      "|   |   |   |   |   |   |   |   |   |   |   |--- truncated branch of depth 5\n",
      "|   |   |   |   |   |   |   |   |   |   |--- feature_83 >  0.50\n",
      "|   |   |   |   |   |   |   |   |   |   |   |--- truncated branch of depth 2\n",
      "|   |   |   |   |   |   |   |--- feature_69 >  0.50\n",
      "|   |   |   |   |   |   |   |   |--- feature_10 <= 0.50\n",
      "|   |   |   |   |   |   |   |   |   |--- feature_53 <= 0.50\n",
      "|   |   |   |   |   |   |   |   |   |   |--- feature_32 <= 0.50\n",
      "|   |   |   |   |   |   |   |   |   |   |   |--- value: [1.33]\n",
      "|   |   |   |   |   |   |   |   |   |   |--- feature_32 >  0.50\n",
      "|   |   |   |   |   |   |   |   |   |   |   |--- value: [1.33]\n",
      "|   |   |   |   |   |   |   |   |   |--- feature_53 >  0.50\n",
      "|   |   |   |   |   |   |   |   |   |   |--- value: [1.38]\n",
      "|   |   |   |   |   |   |   |   |--- feature_10 >  0.50\n",
      "|   |   |   |   |   |   |   |   |   |--- feature_45 <= 0.50\n",
      "|   |   |   |   |   |   |   |   |   |   |--- feature_41 <= 0.50\n",
      "|   |   |   |   |   |   |   |   |   |   |   |--- value: [1.35]\n",
      "|   |   |   |   |   |   |   |   |   |   |--- feature_41 >  0.50\n",
      "|   |   |   |   |   |   |   |   |   |   |   |--- value: [1.34]\n",
      "|   |   |   |   |   |   |   |   |   |--- feature_45 >  0.50\n",
      "|   |   |   |   |   |   |   |   |   |   |--- feature_19 <= 0.50\n",
      "|   |   |   |   |   |   |   |   |   |   |   |--- truncated branch of depth 2\n",
      "|   |   |   |   |   |   |   |   |   |   |--- feature_19 >  0.50\n",
      "|   |   |   |   |   |   |   |   |   |   |   |--- truncated branch of depth 2\n",
      "|   |   |   |   |   |   |--- feature_31 >  0.50\n",
      "|   |   |   |   |   |   |   |--- feature_67 <= 0.50\n",
      "|   |   |   |   |   |   |   |   |--- feature_14 <= 0.50\n",
      "|   |   |   |   |   |   |   |   |   |--- feature_69 <= 0.50\n",
      "|   |   |   |   |   |   |   |   |   |   |--- feature_58 <= 0.50\n",
      "|   |   |   |   |   |   |   |   |   |   |   |--- truncated branch of depth 8\n",
      "|   |   |   |   |   |   |   |   |   |   |--- feature_58 >  0.50\n",
      "|   |   |   |   |   |   |   |   |   |   |   |--- value: [1.42]\n",
      "|   |   |   |   |   |   |   |   |   |--- feature_69 >  0.50\n",
      "|   |   |   |   |   |   |   |   |   |   |--- value: [1.36]\n",
      "|   |   |   |   |   |   |   |   |--- feature_14 >  0.50\n",
      "|   |   |   |   |   |   |   |   |   |--- feature_20 <= 0.50\n",
      "|   |   |   |   |   |   |   |   |   |   |--- value: [1.99]\n",
      "|   |   |   |   |   |   |   |   |   |--- feature_20 >  0.50\n",
      "|   |   |   |   |   |   |   |   |   |   |--- value: [2.00]\n",
      "|   |   |   |   |   |   |   |--- feature_67 >  0.50\n",
      "|   |   |   |   |   |   |   |   |--- feature_6 <= 0.50\n",
      "|   |   |   |   |   |   |   |   |   |--- feature_0 <= 0.50\n",
      "|   |   |   |   |   |   |   |   |   |   |--- feature_13 <= 0.50\n",
      "|   |   |   |   |   |   |   |   |   |   |   |--- truncated branch of depth 4\n",
      "|   |   |   |   |   |   |   |   |   |   |--- feature_13 >  0.50\n",
      "|   |   |   |   |   |   |   |   |   |   |   |--- value: [1.57]\n",
      "|   |   |   |   |   |   |   |   |   |--- feature_0 >  0.50\n",
      "|   |   |   |   |   |   |   |   |   |   |--- value: [1.71]\n",
      "|   |   |   |   |   |   |   |   |--- feature_6 >  0.50\n",
      "|   |   |   |   |   |   |   |   |   |--- feature_46 <= 0.50\n",
      "|   |   |   |   |   |   |   |   |   |   |--- value: [1.39]\n",
      "|   |   |   |   |   |   |   |   |   |--- feature_46 >  0.50\n",
      "|   |   |   |   |   |   |   |   |   |   |--- value: [1.44]\n",
      "|   |   |   |   |   |--- feature_70 >  0.50\n",
      "|   |   |   |   |   |   |--- feature_54 <= 0.50\n",
      "|   |   |   |   |   |   |   |--- value: [2.93]\n",
      "|   |   |   |   |   |   |--- feature_54 >  0.50\n",
      "|   |   |   |   |   |   |   |--- feature_6 <= 0.50\n",
      "|   |   |   |   |   |   |   |   |--- feature_19 <= 0.50\n",
      "|   |   |   |   |   |   |   |   |   |--- value: [2.15]\n",
      "|   |   |   |   |   |   |   |   |--- feature_19 >  0.50\n",
      "|   |   |   |   |   |   |   |   |   |--- value: [2.15]\n",
      "|   |   |   |   |   |   |   |--- feature_6 >  0.50\n",
      "|   |   |   |   |   |   |   |   |--- feature_19 <= 0.50\n",
      "|   |   |   |   |   |   |   |   |   |--- value: [2.05]\n",
      "|   |   |   |   |   |   |   |   |--- feature_19 >  0.50\n",
      "|   |   |   |   |   |   |   |   |   |--- feature_43 <= 0.50\n",
      "|   |   |   |   |   |   |   |   |   |   |--- value: [2.11]\n",
      "|   |   |   |   |   |   |   |   |   |--- feature_43 >  0.50\n",
      "|   |   |   |   |   |   |   |   |   |   |--- value: [2.09]\n",
      "|   |   |   |   |--- feature_71 >  0.50\n",
      "|   |   |   |   |   |--- feature_6 <= 0.50\n",
      "|   |   |   |   |   |   |--- feature_53 <= 0.50\n",
      "|   |   |   |   |   |   |   |--- feature_110 <= 0.50\n",
      "|   |   |   |   |   |   |   |   |--- feature_92 <= 0.50\n",
      "|   |   |   |   |   |   |   |   |   |--- feature_10 <= 0.50\n",
      "|   |   |   |   |   |   |   |   |   |   |--- feature_106 <= 0.50\n",
      "|   |   |   |   |   |   |   |   |   |   |   |--- truncated branch of depth 7\n",
      "|   |   |   |   |   |   |   |   |   |   |--- feature_106 >  0.50\n",
      "|   |   |   |   |   |   |   |   |   |   |   |--- truncated branch of depth 4\n",
      "|   |   |   |   |   |   |   |   |   |--- feature_10 >  0.50\n",
      "|   |   |   |   |   |   |   |   |   |   |--- feature_89 <= 0.50\n",
      "|   |   |   |   |   |   |   |   |   |   |   |--- truncated branch of depth 7\n",
      "|   |   |   |   |   |   |   |   |   |   |--- feature_89 >  0.50\n",
      "|   |   |   |   |   |   |   |   |   |   |   |--- truncated branch of depth 6\n",
      "|   |   |   |   |   |   |   |   |--- feature_92 >  0.50\n",
      "|   |   |   |   |   |   |   |   |   |--- feature_4 <= 0.50\n",
      "|   |   |   |   |   |   |   |   |   |   |--- feature_19 <= 0.50\n",
      "|   |   |   |   |   |   |   |   |   |   |   |--- value: [1.54]\n",
      "|   |   |   |   |   |   |   |   |   |   |--- feature_19 >  0.50\n",
      "|   |   |   |   |   |   |   |   |   |   |   |--- value: [1.54]\n",
      "|   |   |   |   |   |   |   |   |   |--- feature_4 >  0.50\n",
      "|   |   |   |   |   |   |   |   |   |   |--- feature_10 <= 0.50\n",
      "|   |   |   |   |   |   |   |   |   |   |   |--- value: [1.49]\n",
      "|   |   |   |   |   |   |   |   |   |   |--- feature_10 >  0.50\n",
      "|   |   |   |   |   |   |   |   |   |   |   |--- value: [1.51]\n",
      "|   |   |   |   |   |   |   |--- feature_110 >  0.50\n",
      "|   |   |   |   |   |   |   |   |--- feature_78 <= 0.50\n",
      "|   |   |   |   |   |   |   |   |   |--- feature_22 <= 0.50\n",
      "|   |   |   |   |   |   |   |   |   |   |--- feature_89 <= 0.50\n",
      "|   |   |   |   |   |   |   |   |   |   |   |--- truncated branch of depth 3\n",
      "|   |   |   |   |   |   |   |   |   |   |--- feature_89 >  0.50\n",
      "|   |   |   |   |   |   |   |   |   |   |   |--- truncated branch of depth 3\n",
      "|   |   |   |   |   |   |   |   |   |--- feature_22 >  0.50\n",
      "|   |   |   |   |   |   |   |   |   |   |--- feature_77 <= 0.50\n",
      "|   |   |   |   |   |   |   |   |   |   |   |--- value: [1.49]\n",
      "|   |   |   |   |   |   |   |   |   |   |--- feature_77 >  0.50\n",
      "|   |   |   |   |   |   |   |   |   |   |   |--- value: [1.49]\n",
      "|   |   |   |   |   |   |   |   |--- feature_78 >  0.50\n",
      "|   |   |   |   |   |   |   |   |   |--- feature_106 <= 0.50\n",
      "|   |   |   |   |   |   |   |   |   |   |--- feature_97 <= 0.50\n",
      "|   |   |   |   |   |   |   |   |   |   |   |--- truncated branch of depth 2\n",
      "|   |   |   |   |   |   |   |   |   |   |--- feature_97 >  0.50\n",
      "|   |   |   |   |   |   |   |   |   |   |   |--- value: [1.52]\n",
      "|   |   |   |   |   |   |   |   |   |--- feature_106 >  0.50\n",
      "|   |   |   |   |   |   |   |   |   |   |--- value: [1.48]\n",
      "|   |   |   |   |   |   |--- feature_53 >  0.50\n",
      "|   |   |   |   |   |   |   |--- feature_86 <= 0.50\n",
      "|   |   |   |   |   |   |   |   |--- value: [1.64]\n",
      "|   |   |   |   |   |   |   |--- feature_86 >  0.50\n",
      "|   |   |   |   |   |   |   |   |--- feature_26 <= 0.50\n",
      "|   |   |   |   |   |   |   |   |   |--- value: [1.65]\n",
      "|   |   |   |   |   |   |   |   |--- feature_26 >  0.50\n",
      "|   |   |   |   |   |   |   |   |   |--- feature_2 <= 0.50\n",
      "|   |   |   |   |   |   |   |   |   |   |--- value: [1.64]\n",
      "|   |   |   |   |   |   |   |   |   |--- feature_2 >  0.50\n",
      "|   |   |   |   |   |   |   |   |   |   |--- value: [1.65]\n",
      "|   |   |   |   |   |--- feature_6 >  0.50\n",
      "|   |   |   |   |   |   |--- feature_43 <= 0.50\n",
      "|   |   |   |   |   |   |   |--- feature_86 <= 0.50\n",
      "|   |   |   |   |   |   |   |   |--- feature_22 <= 0.50\n",
      "|   |   |   |   |   |   |   |   |   |--- feature_112 <= 0.50\n",
      "|   |   |   |   |   |   |   |   |   |   |--- feature_116 <= 0.50\n",
      "|   |   |   |   |   |   |   |   |   |   |   |--- truncated branch of depth 7\n",
      "|   |   |   |   |   |   |   |   |   |   |--- feature_116 >  0.50\n",
      "|   |   |   |   |   |   |   |   |   |   |   |--- truncated branch of depth 9\n",
      "|   |   |   |   |   |   |   |   |   |--- feature_112 >  0.50\n",
      "|   |   |   |   |   |   |   |   |   |   |--- feature_54 <= 0.50\n",
      "|   |   |   |   |   |   |   |   |   |   |   |--- truncated branch of depth 4\n",
      "|   |   |   |   |   |   |   |   |   |   |--- feature_54 >  0.50\n",
      "|   |   |   |   |   |   |   |   |   |   |   |--- truncated branch of depth 13\n",
      "|   |   |   |   |   |   |   |   |--- feature_22 >  0.50\n",
      "|   |   |   |   |   |   |   |   |   |--- feature_89 <= 0.50\n",
      "|   |   |   |   |   |   |   |   |   |   |--- value: [1.46]\n",
      "|   |   |   |   |   |   |   |   |   |--- feature_89 >  0.50\n",
      "|   |   |   |   |   |   |   |   |   |   |--- value: [1.49]\n",
      "|   |   |   |   |   |   |   |--- feature_86 >  0.50\n",
      "|   |   |   |   |   |   |   |   |--- feature_22 <= 0.50\n",
      "|   |   |   |   |   |   |   |   |   |--- feature_54 <= 0.50\n",
      "|   |   |   |   |   |   |   |   |   |   |--- feature_97 <= 0.50\n",
      "|   |   |   |   |   |   |   |   |   |   |   |--- value: [1.27]\n",
      "|   |   |   |   |   |   |   |   |   |   |--- feature_97 >  0.50\n",
      "|   |   |   |   |   |   |   |   |   |   |   |--- truncated branch of depth 4\n",
      "|   |   |   |   |   |   |   |   |   |--- feature_54 >  0.50\n",
      "|   |   |   |   |   |   |   |   |   |   |--- feature_13 <= 0.50\n",
      "|   |   |   |   |   |   |   |   |   |   |   |--- truncated branch of depth 10\n",
      "|   |   |   |   |   |   |   |   |   |   |--- feature_13 >  0.50\n",
      "|   |   |   |   |   |   |   |   |   |   |   |--- truncated branch of depth 5\n",
      "|   |   |   |   |   |   |   |   |--- feature_22 >  0.50\n",
      "|   |   |   |   |   |   |   |   |   |--- feature_109 <= 0.50\n",
      "|   |   |   |   |   |   |   |   |   |   |--- value: [1.49]\n",
      "|   |   |   |   |   |   |   |   |   |--- feature_109 >  0.50\n",
      "|   |   |   |   |   |   |   |   |   |   |--- value: [1.47]\n",
      "|   |   |   |   |   |   |--- feature_43 >  0.50\n",
      "|   |   |   |   |   |   |   |--- feature_92 <= 0.50\n",
      "|   |   |   |   |   |   |   |   |--- feature_89 <= 0.50\n",
      "|   |   |   |   |   |   |   |   |   |--- feature_109 <= 0.50\n",
      "|   |   |   |   |   |   |   |   |   |   |--- value: [1.49]\n",
      "|   |   |   |   |   |   |   |   |   |--- feature_109 >  0.50\n",
      "|   |   |   |   |   |   |   |   |   |   |--- feature_106 <= 0.50\n",
      "|   |   |   |   |   |   |   |   |   |   |   |--- truncated branch of depth 9\n",
      "|   |   |   |   |   |   |   |   |   |   |--- feature_106 >  0.50\n",
      "|   |   |   |   |   |   |   |   |   |   |   |--- value: [1.43]\n",
      "|   |   |   |   |   |   |   |   |--- feature_89 >  0.50\n",
      "|   |   |   |   |   |   |   |   |   |--- feature_97 <= 0.50\n",
      "|   |   |   |   |   |   |   |   |   |   |--- feature_102 <= 0.50\n",
      "|   |   |   |   |   |   |   |   |   |   |   |--- truncated branch of depth 2\n",
      "|   |   |   |   |   |   |   |   |   |   |--- feature_102 >  0.50\n",
      "|   |   |   |   |   |   |   |   |   |   |   |--- truncated branch of depth 2\n",
      "|   |   |   |   |   |   |   |   |   |--- feature_97 >  0.50\n",
      "|   |   |   |   |   |   |   |   |   |   |--- feature_19 <= 0.50\n",
      "|   |   |   |   |   |   |   |   |   |   |   |--- value: [1.40]\n",
      "|   |   |   |   |   |   |   |   |   |   |--- feature_19 >  0.50\n",
      "|   |   |   |   |   |   |   |   |   |   |   |--- value: [1.39]\n",
      "|   |   |   |   |   |   |   |--- feature_92 >  0.50\n",
      "|   |   |   |   |   |   |   |   |--- feature_19 <= 0.50\n",
      "|   |   |   |   |   |   |   |   |   |--- value: [1.43]\n",
      "|   |   |   |   |   |   |   |   |--- feature_19 >  0.50\n",
      "|   |   |   |   |   |   |   |   |   |--- value: [1.46]\n",
      "|   |   |   |--- feature_66 >  0.50\n",
      "|   |   |   |   |--- feature_6 <= 0.50\n",
      "|   |   |   |   |   |--- feature_10 <= 0.50\n",
      "|   |   |   |   |   |   |--- feature_13 <= 0.50\n",
      "|   |   |   |   |   |   |   |--- feature_4 <= 0.50\n",
      "|   |   |   |   |   |   |   |   |--- value: [1.94]\n",
      "|   |   |   |   |   |   |   |--- feature_4 >  0.50\n",
      "|   |   |   |   |   |   |   |   |--- value: [1.92]\n",
      "|   |   |   |   |   |   |--- feature_13 >  0.50\n",
      "|   |   |   |   |   |   |   |--- value: [1.93]\n",
      "|   |   |   |   |   |--- feature_10 >  0.50\n",
      "|   |   |   |   |   |   |--- feature_4 <= 0.50\n",
      "|   |   |   |   |   |   |   |--- value: [1.98]\n",
      "|   |   |   |   |   |   |--- feature_4 >  0.50\n",
      "|   |   |   |   |   |   |   |--- value: [1.97]\n",
      "|   |   |   |   |--- feature_6 >  0.50\n",
      "|   |   |   |   |   |--- feature_19 <= 0.50\n",
      "|   |   |   |   |   |   |--- value: [1.87]\n",
      "|   |   |   |   |   |--- feature_19 >  0.50\n",
      "|   |   |   |   |   |   |--- feature_48 <= 0.50\n",
      "|   |   |   |   |   |   |   |--- value: [1.89]\n",
      "|   |   |   |   |   |   |--- feature_48 >  0.50\n",
      "|   |   |   |   |   |   |   |--- value: [1.90]\n",
      "|   |   |--- feature_74 >  0.50\n",
      "|   |   |   |--- feature_58 <= 0.50\n",
      "|   |   |   |   |--- feature_57 <= 0.50\n",
      "|   |   |   |   |   |--- feature_54 <= 0.50\n",
      "|   |   |   |   |   |   |--- feature_40 <= 0.50\n",
      "|   |   |   |   |   |   |   |--- feature_26 <= 0.50\n",
      "|   |   |   |   |   |   |   |   |--- value: [1.97]\n",
      "|   |   |   |   |   |   |   |--- feature_26 >  0.50\n",
      "|   |   |   |   |   |   |   |   |--- value: [1.93]\n",
      "|   |   |   |   |   |   |--- feature_40 >  0.50\n",
      "|   |   |   |   |   |   |   |--- value: [2.02]\n",
      "|   |   |   |   |   |--- feature_54 >  0.50\n",
      "|   |   |   |   |   |   |--- feature_6 <= 0.50\n",
      "|   |   |   |   |   |   |   |--- feature_2 <= 0.50\n",
      "|   |   |   |   |   |   |   |   |--- feature_22 <= 0.50\n",
      "|   |   |   |   |   |   |   |   |   |--- feature_78 <= 0.50\n",
      "|   |   |   |   |   |   |   |   |   |   |--- feature_24 <= 0.50\n",
      "|   |   |   |   |   |   |   |   |   |   |   |--- truncated branch of depth 7\n",
      "|   |   |   |   |   |   |   |   |   |   |--- feature_24 >  0.50\n",
      "|   |   |   |   |   |   |   |   |   |   |   |--- value: [1.85]\n",
      "|   |   |   |   |   |   |   |   |   |--- feature_78 >  0.50\n",
      "|   |   |   |   |   |   |   |   |   |   |--- feature_13 <= 0.50\n",
      "|   |   |   |   |   |   |   |   |   |   |   |--- value: [1.81]\n",
      "|   |   |   |   |   |   |   |   |   |   |--- feature_13 >  0.50\n",
      "|   |   |   |   |   |   |   |   |   |   |   |--- value: [1.77]\n",
      "|   |   |   |   |   |   |   |   |--- feature_22 >  0.50\n",
      "|   |   |   |   |   |   |   |   |   |--- feature_78 <= 0.50\n",
      "|   |   |   |   |   |   |   |   |   |   |--- feature_83 <= 0.50\n",
      "|   |   |   |   |   |   |   |   |   |   |   |--- value: [1.76]\n",
      "|   |   |   |   |   |   |   |   |   |   |--- feature_83 >  0.50\n",
      "|   |   |   |   |   |   |   |   |   |   |   |--- truncated branch of depth 2\n",
      "|   |   |   |   |   |   |   |   |   |--- feature_78 >  0.50\n",
      "|   |   |   |   |   |   |   |   |   |   |--- value: [1.86]\n",
      "|   |   |   |   |   |   |   |--- feature_2 >  0.50\n",
      "|   |   |   |   |   |   |   |   |--- feature_78 <= 0.50\n",
      "|   |   |   |   |   |   |   |   |   |--- feature_109 <= 0.50\n",
      "|   |   |   |   |   |   |   |   |   |   |--- value: [1.81]\n",
      "|   |   |   |   |   |   |   |   |   |--- feature_109 >  0.50\n",
      "|   |   |   |   |   |   |   |   |   |   |--- feature_28 <= 0.50\n",
      "|   |   |   |   |   |   |   |   |   |   |   |--- truncated branch of depth 3\n",
      "|   |   |   |   |   |   |   |   |   |   |--- feature_28 >  0.50\n",
      "|   |   |   |   |   |   |   |   |   |   |   |--- value: [1.81]\n",
      "|   |   |   |   |   |   |   |   |--- feature_78 >  0.50\n",
      "|   |   |   |   |   |   |   |   |   |--- feature_28 <= 0.50\n",
      "|   |   |   |   |   |   |   |   |   |   |--- value: [1.88]\n",
      "|   |   |   |   |   |   |   |   |   |--- feature_28 >  0.50\n",
      "|   |   |   |   |   |   |   |   |   |   |--- value: [1.89]\n",
      "|   |   |   |   |   |   |--- feature_6 >  0.50\n",
      "|   |   |   |   |   |   |   |--- feature_112 <= 0.50\n",
      "|   |   |   |   |   |   |   |   |--- feature_19 <= 0.50\n",
      "|   |   |   |   |   |   |   |   |   |--- feature_103 <= 0.50\n",
      "|   |   |   |   |   |   |   |   |   |   |--- feature_46 <= 0.50\n",
      "|   |   |   |   |   |   |   |   |   |   |   |--- truncated branch of depth 5\n",
      "|   |   |   |   |   |   |   |   |   |   |--- feature_46 >  0.50\n",
      "|   |   |   |   |   |   |   |   |   |   |   |--- value: [1.80]\n",
      "|   |   |   |   |   |   |   |   |   |--- feature_103 >  0.50\n",
      "|   |   |   |   |   |   |   |   |   |   |--- value: [1.70]\n",
      "|   |   |   |   |   |   |   |   |--- feature_19 >  0.50\n",
      "|   |   |   |   |   |   |   |   |   |--- feature_46 <= 0.50\n",
      "|   |   |   |   |   |   |   |   |   |   |--- feature_117 <= 0.50\n",
      "|   |   |   |   |   |   |   |   |   |   |   |--- truncated branch of depth 2\n",
      "|   |   |   |   |   |   |   |   |   |   |--- feature_117 >  0.50\n",
      "|   |   |   |   |   |   |   |   |   |   |   |--- truncated branch of depth 4\n",
      "|   |   |   |   |   |   |   |   |   |--- feature_46 >  0.50\n",
      "|   |   |   |   |   |   |   |   |   |   |--- feature_92 <= 0.50\n",
      "|   |   |   |   |   |   |   |   |   |   |   |--- value: [1.75]\n",
      "|   |   |   |   |   |   |   |   |   |   |--- feature_92 >  0.50\n",
      "|   |   |   |   |   |   |   |   |   |   |   |--- value: [1.75]\n",
      "|   |   |   |   |   |   |   |--- feature_112 >  0.50\n",
      "|   |   |   |   |   |   |   |   |--- feature_102 <= 0.50\n",
      "|   |   |   |   |   |   |   |   |   |--- feature_86 <= 0.50\n",
      "|   |   |   |   |   |   |   |   |   |   |--- value: [1.79]\n",
      "|   |   |   |   |   |   |   |   |   |--- feature_86 >  0.50\n",
      "|   |   |   |   |   |   |   |   |   |   |--- value: [1.80]\n",
      "|   |   |   |   |   |   |   |   |--- feature_102 >  0.50\n",
      "|   |   |   |   |   |   |   |   |   |--- value: [1.79]\n",
      "|   |   |   |   |--- feature_57 >  0.50\n",
      "|   |   |   |   |   |--- feature_2 <= 0.50\n",
      "|   |   |   |   |   |   |--- feature_10 <= 0.50\n",
      "|   |   |   |   |   |   |   |--- feature_78 <= 0.50\n",
      "|   |   |   |   |   |   |   |   |--- feature_28 <= 0.50\n",
      "|   |   |   |   |   |   |   |   |   |--- feature_83 <= 0.50\n",
      "|   |   |   |   |   |   |   |   |   |   |--- value: [1.63]\n",
      "|   |   |   |   |   |   |   |   |   |--- feature_83 >  0.50\n",
      "|   |   |   |   |   |   |   |   |   |   |--- feature_45 <= 0.50\n",
      "|   |   |   |   |   |   |   |   |   |   |   |--- value: [1.68]\n",
      "|   |   |   |   |   |   |   |   |   |   |--- feature_45 >  0.50\n",
      "|   |   |   |   |   |   |   |   |   |   |   |--- value: [1.67]\n",
      "|   |   |   |   |   |   |   |   |--- feature_28 >  0.50\n",
      "|   |   |   |   |   |   |   |   |   |--- value: [1.64]\n",
      "|   |   |   |   |   |   |   |--- feature_78 >  0.50\n",
      "|   |   |   |   |   |   |   |   |--- feature_19 <= 0.50\n",
      "|   |   |   |   |   |   |   |   |   |--- feature_15 <= 0.50\n",
      "|   |   |   |   |   |   |   |   |   |   |--- value: [1.58]\n",
      "|   |   |   |   |   |   |   |   |   |--- feature_15 >  0.50\n",
      "|   |   |   |   |   |   |   |   |   |   |--- value: [1.58]\n",
      "|   |   |   |   |   |   |   |   |--- feature_19 >  0.50\n",
      "|   |   |   |   |   |   |   |   |   |--- feature_86 <= 0.50\n",
      "|   |   |   |   |   |   |   |   |   |   |--- feature_40 <= 0.50\n",
      "|   |   |   |   |   |   |   |   |   |   |   |--- value: [1.61]\n",
      "|   |   |   |   |   |   |   |   |   |   |--- feature_40 >  0.50\n",
      "|   |   |   |   |   |   |   |   |   |   |   |--- value: [1.64]\n",
      "|   |   |   |   |   |   |   |   |   |--- feature_86 >  0.50\n",
      "|   |   |   |   |   |   |   |   |   |   |--- value: [1.57]\n",
      "|   |   |   |   |   |   |--- feature_10 >  0.50\n",
      "|   |   |   |   |   |   |   |--- feature_19 <= 0.50\n",
      "|   |   |   |   |   |   |   |   |--- feature_26 <= 0.50\n",
      "|   |   |   |   |   |   |   |   |   |--- value: [1.72]\n",
      "|   |   |   |   |   |   |   |   |--- feature_26 >  0.50\n",
      "|   |   |   |   |   |   |   |   |   |--- value: [1.70]\n",
      "|   |   |   |   |   |   |   |--- feature_19 >  0.50\n",
      "|   |   |   |   |   |   |   |   |--- feature_92 <= 0.50\n",
      "|   |   |   |   |   |   |   |   |   |--- value: [1.69]\n",
      "|   |   |   |   |   |   |   |   |--- feature_92 >  0.50\n",
      "|   |   |   |   |   |   |   |   |   |--- feature_82 <= 0.50\n",
      "|   |   |   |   |   |   |   |   |   |   |--- value: [1.64]\n",
      "|   |   |   |   |   |   |   |   |   |--- feature_82 >  0.50\n",
      "|   |   |   |   |   |   |   |   |   |   |--- value: [1.64]\n",
      "|   |   |   |   |   |--- feature_2 >  0.50\n",
      "|   |   |   |   |   |   |--- value: [2.15]\n",
      "|   |   |   |--- feature_58 >  0.50\n",
      "|   |   |   |   |--- feature_25 <= 0.50\n",
      "|   |   |   |   |   |--- feature_112 <= 0.50\n",
      "|   |   |   |   |   |   |--- value: [1.60]\n",
      "|   |   |   |   |   |--- feature_112 >  0.50\n",
      "|   |   |   |   |   |   |--- value: [1.68]\n",
      "|   |   |   |   |--- feature_25 >  0.50\n",
      "|   |   |   |   |   |--- feature_104 <= 0.50\n",
      "|   |   |   |   |   |   |--- feature_97 <= 0.50\n",
      "|   |   |   |   |   |   |   |--- value: [1.49]\n",
      "|   |   |   |   |   |   |--- feature_97 >  0.50\n",
      "|   |   |   |   |   |   |   |--- value: [1.50]\n",
      "|   |   |   |   |   |--- feature_104 >  0.50\n",
      "|   |   |   |   |   |   |--- feature_78 <= 0.50\n",
      "|   |   |   |   |   |   |   |--- feature_83 <= 0.50\n",
      "|   |   |   |   |   |   |   |   |--- value: [1.46]\n",
      "|   |   |   |   |   |   |   |--- feature_83 >  0.50\n",
      "|   |   |   |   |   |   |   |   |--- value: [1.45]\n",
      "|   |   |   |   |   |   |--- feature_78 >  0.50\n",
      "|   |   |   |   |   |   |   |--- value: [1.43]\n",
      "|   |--- feature_72 >  0.50\n",
      "|   |   |--- feature_38 <= 0.50\n",
      "|   |   |   |--- feature_100 <= 0.50\n",
      "|   |   |   |   |--- feature_19 <= 0.50\n",
      "|   |   |   |   |   |--- feature_53 <= 0.50\n",
      "|   |   |   |   |   |   |--- feature_26 <= 0.50\n",
      "|   |   |   |   |   |   |   |--- feature_4 <= 0.50\n",
      "|   |   |   |   |   |   |   |   |--- value: [1.42]\n",
      "|   |   |   |   |   |   |   |--- feature_4 >  0.50\n",
      "|   |   |   |   |   |   |   |   |--- feature_105 <= 0.50\n",
      "|   |   |   |   |   |   |   |   |   |--- feature_97 <= 0.50\n",
      "|   |   |   |   |   |   |   |   |   |   |--- value: [1.44]\n",
      "|   |   |   |   |   |   |   |   |   |--- feature_97 >  0.50\n",
      "|   |   |   |   |   |   |   |   |   |   |--- feature_13 <= 0.50\n",
      "|   |   |   |   |   |   |   |   |   |   |   |--- value: [1.43]\n",
      "|   |   |   |   |   |   |   |   |   |   |--- feature_13 >  0.50\n",
      "|   |   |   |   |   |   |   |   |   |   |   |--- value: [1.43]\n",
      "|   |   |   |   |   |   |   |   |--- feature_105 >  0.50\n",
      "|   |   |   |   |   |   |   |   |   |--- value: [1.44]\n",
      "|   |   |   |   |   |   |--- feature_26 >  0.50\n",
      "|   |   |   |   |   |   |   |--- feature_10 <= 0.50\n",
      "|   |   |   |   |   |   |   |   |--- feature_2 <= 0.50\n",
      "|   |   |   |   |   |   |   |   |   |--- feature_13 <= 0.50\n",
      "|   |   |   |   |   |   |   |   |   |   |--- value: [1.40]\n",
      "|   |   |   |   |   |   |   |   |   |--- feature_13 >  0.50\n",
      "|   |   |   |   |   |   |   |   |   |   |--- value: [1.40]\n",
      "|   |   |   |   |   |   |   |   |--- feature_2 >  0.50\n",
      "|   |   |   |   |   |   |   |   |   |--- feature_35 <= 0.50\n",
      "|   |   |   |   |   |   |   |   |   |   |--- value: [1.39]\n",
      "|   |   |   |   |   |   |   |   |   |--- feature_35 >  0.50\n",
      "|   |   |   |   |   |   |   |   |   |   |--- feature_14 <= 0.50\n",
      "|   |   |   |   |   |   |   |   |   |   |   |--- value: [1.41]\n",
      "|   |   |   |   |   |   |   |   |   |   |--- feature_14 >  0.50\n",
      "|   |   |   |   |   |   |   |   |   |   |   |--- value: [1.42]\n",
      "|   |   |   |   |   |   |   |--- feature_10 >  0.50\n",
      "|   |   |   |   |   |   |   |   |--- feature_102 <= 0.50\n",
      "|   |   |   |   |   |   |   |   |   |--- feature_4 <= 0.50\n",
      "|   |   |   |   |   |   |   |   |   |   |--- value: [1.43]\n",
      "|   |   |   |   |   |   |   |   |   |--- feature_4 >  0.50\n",
      "|   |   |   |   |   |   |   |   |   |   |--- value: [1.42]\n",
      "|   |   |   |   |   |   |   |   |--- feature_102 >  0.50\n",
      "|   |   |   |   |   |   |   |   |   |--- feature_2 <= 0.50\n",
      "|   |   |   |   |   |   |   |   |   |   |--- value: [1.45]\n",
      "|   |   |   |   |   |   |   |   |   |--- feature_2 >  0.50\n",
      "|   |   |   |   |   |   |   |   |   |   |--- value: [1.44]\n",
      "|   |   |   |   |   |--- feature_53 >  0.50\n",
      "|   |   |   |   |   |   |--- feature_5 <= 0.50\n",
      "|   |   |   |   |   |   |   |--- feature_7 <= 0.50\n",
      "|   |   |   |   |   |   |   |   |--- feature_16 <= 0.50\n",
      "|   |   |   |   |   |   |   |   |   |--- feature_26 <= 0.50\n",
      "|   |   |   |   |   |   |   |   |   |   |--- value: [1.50]\n",
      "|   |   |   |   |   |   |   |   |   |--- feature_26 >  0.50\n",
      "|   |   |   |   |   |   |   |   |   |   |--- value: [1.48]\n",
      "|   |   |   |   |   |   |   |   |--- feature_16 >  0.50\n",
      "|   |   |   |   |   |   |   |   |   |--- value: [1.54]\n",
      "|   |   |   |   |   |   |   |--- feature_7 >  0.50\n",
      "|   |   |   |   |   |   |   |   |--- value: [1.48]\n",
      "|   |   |   |   |   |   |--- feature_5 >  0.50\n",
      "|   |   |   |   |   |   |   |--- value: [1.45]\n",
      "|   |   |   |   |--- feature_19 >  0.50\n",
      "|   |   |   |   |   |--- feature_4 <= 0.50\n",
      "|   |   |   |   |   |   |--- feature_53 <= 0.50\n",
      "|   |   |   |   |   |   |   |--- feature_104 <= 0.50\n",
      "|   |   |   |   |   |   |   |   |--- feature_102 <= 0.50\n",
      "|   |   |   |   |   |   |   |   |   |--- feature_95 <= 0.50\n",
      "|   |   |   |   |   |   |   |   |   |   |--- value: [1.46]\n",
      "|   |   |   |   |   |   |   |   |   |--- feature_95 >  0.50\n",
      "|   |   |   |   |   |   |   |   |   |   |--- value: [1.46]\n",
      "|   |   |   |   |   |   |   |   |--- feature_102 >  0.50\n",
      "|   |   |   |   |   |   |   |   |   |--- value: [1.48]\n",
      "|   |   |   |   |   |   |   |--- feature_104 >  0.50\n",
      "|   |   |   |   |   |   |   |   |--- value: [1.45]\n",
      "|   |   |   |   |   |   |--- feature_53 >  0.50\n",
      "|   |   |   |   |   |   |   |--- value: [1.60]\n",
      "|   |   |   |   |   |--- feature_4 >  0.50\n",
      "|   |   |   |   |   |   |--- feature_10 <= 0.50\n",
      "|   |   |   |   |   |   |   |--- feature_97 <= 0.50\n",
      "|   |   |   |   |   |   |   |   |--- feature_116 <= 0.50\n",
      "|   |   |   |   |   |   |   |   |   |--- value: [1.49]\n",
      "|   |   |   |   |   |   |   |   |--- feature_116 >  0.50\n",
      "|   |   |   |   |   |   |   |   |   |--- feature_102 <= 0.50\n",
      "|   |   |   |   |   |   |   |   |   |   |--- feature_106 <= 0.50\n",
      "|   |   |   |   |   |   |   |   |   |   |   |--- value: [1.45]\n",
      "|   |   |   |   |   |   |   |   |   |   |--- feature_106 >  0.50\n",
      "|   |   |   |   |   |   |   |   |   |   |   |--- value: [1.45]\n",
      "|   |   |   |   |   |   |   |   |   |--- feature_102 >  0.50\n",
      "|   |   |   |   |   |   |   |   |   |   |--- value: [1.45]\n",
      "|   |   |   |   |   |   |   |--- feature_97 >  0.50\n",
      "|   |   |   |   |   |   |   |   |--- value: [1.44]\n",
      "|   |   |   |   |   |   |--- feature_10 >  0.50\n",
      "|   |   |   |   |   |   |   |--- feature_106 <= 0.50\n",
      "|   |   |   |   |   |   |   |   |--- feature_102 <= 0.50\n",
      "|   |   |   |   |   |   |   |   |   |--- feature_104 <= 0.50\n",
      "|   |   |   |   |   |   |   |   |   |   |--- value: [1.45]\n",
      "|   |   |   |   |   |   |   |   |   |--- feature_104 >  0.50\n",
      "|   |   |   |   |   |   |   |   |   |   |--- value: [1.45]\n",
      "|   |   |   |   |   |   |   |   |--- feature_102 >  0.50\n",
      "|   |   |   |   |   |   |   |   |   |--- value: [1.44]\n",
      "|   |   |   |   |   |   |   |--- feature_106 >  0.50\n",
      "|   |   |   |   |   |   |   |   |--- value: [1.47]\n",
      "|   |   |   |--- feature_100 >  0.50\n",
      "|   |   |   |   |--- feature_26 <= 0.50\n",
      "|   |   |   |   |   |--- feature_13 <= 0.50\n",
      "|   |   |   |   |   |   |--- feature_24 <= 0.50\n",
      "|   |   |   |   |   |   |   |--- feature_4 <= 0.50\n",
      "|   |   |   |   |   |   |   |   |--- value: [1.43]\n",
      "|   |   |   |   |   |   |   |--- feature_4 >  0.50\n",
      "|   |   |   |   |   |   |   |   |--- value: [1.42]\n",
      "|   |   |   |   |   |   |--- feature_24 >  0.50\n",
      "|   |   |   |   |   |   |   |--- value: [1.41]\n",
      "|   |   |   |   |   |--- feature_13 >  0.50\n",
      "|   |   |   |   |   |   |--- feature_19 <= 0.50\n",
      "|   |   |   |   |   |   |   |--- value: [1.41]\n",
      "|   |   |   |   |   |   |--- feature_19 >  0.50\n",
      "|   |   |   |   |   |   |   |--- value: [1.41]\n",
      "|   |   |   |   |--- feature_26 >  0.50\n",
      "|   |   |   |   |   |--- feature_35 <= 0.50\n",
      "|   |   |   |   |   |   |--- value: [1.41]\n",
      "|   |   |   |   |   |--- feature_35 >  0.50\n",
      "|   |   |   |   |   |   |--- feature_2 <= 0.50\n",
      "|   |   |   |   |   |   |   |--- value: [1.39]\n",
      "|   |   |   |   |   |   |--- feature_2 >  0.50\n",
      "|   |   |   |   |   |   |   |--- value: [1.38]\n",
      "|   |   |--- feature_38 >  0.50\n",
      "|   |   |   |--- feature_103 <= 0.50\n",
      "|   |   |   |   |--- feature_50 <= 0.50\n",
      "|   |   |   |   |   |--- feature_57 <= 0.50\n",
      "|   |   |   |   |   |   |--- feature_58 <= 0.50\n",
      "|   |   |   |   |   |   |   |--- feature_100 <= 0.50\n",
      "|   |   |   |   |   |   |   |   |--- feature_47 <= 0.50\n",
      "|   |   |   |   |   |   |   |   |   |--- feature_106 <= 0.50\n",
      "|   |   |   |   |   |   |   |   |   |   |--- feature_24 <= 0.50\n",
      "|   |   |   |   |   |   |   |   |   |   |   |--- truncated branch of depth 9\n",
      "|   |   |   |   |   |   |   |   |   |   |--- feature_24 >  0.50\n",
      "|   |   |   |   |   |   |   |   |   |   |   |--- truncated branch of depth 4\n",
      "|   |   |   |   |   |   |   |   |   |--- feature_106 >  0.50\n",
      "|   |   |   |   |   |   |   |   |   |   |--- feature_46 <= 0.50\n",
      "|   |   |   |   |   |   |   |   |   |   |   |--- truncated branch of depth 2\n",
      "|   |   |   |   |   |   |   |   |   |   |--- feature_46 >  0.50\n",
      "|   |   |   |   |   |   |   |   |   |   |   |--- value: [1.37]\n",
      "|   |   |   |   |   |   |   |   |--- feature_47 >  0.50\n",
      "|   |   |   |   |   |   |   |   |   |--- value: [1.28]\n",
      "|   |   |   |   |   |   |   |--- feature_100 >  0.50\n",
      "|   |   |   |   |   |   |   |   |--- feature_10 <= 0.50\n",
      "|   |   |   |   |   |   |   |   |   |--- value: [1.36]\n",
      "|   |   |   |   |   |   |   |   |--- feature_10 >  0.50\n",
      "|   |   |   |   |   |   |   |   |   |--- feature_43 <= 0.50\n",
      "|   |   |   |   |   |   |   |   |   |   |--- feature_53 <= 0.50\n",
      "|   |   |   |   |   |   |   |   |   |   |   |--- value: [1.35]\n",
      "|   |   |   |   |   |   |   |   |   |   |--- feature_53 >  0.50\n",
      "|   |   |   |   |   |   |   |   |   |   |   |--- value: [1.35]\n",
      "|   |   |   |   |   |   |   |   |   |--- feature_43 >  0.50\n",
      "|   |   |   |   |   |   |   |   |   |   |--- value: [1.36]\n",
      "|   |   |   |   |   |   |--- feature_58 >  0.50\n",
      "|   |   |   |   |   |   |   |--- feature_97 <= 0.50\n",
      "|   |   |   |   |   |   |   |   |--- value: [1.46]\n",
      "|   |   |   |   |   |   |   |--- feature_97 >  0.50\n",
      "|   |   |   |   |   |   |   |   |--- value: [1.47]\n",
      "|   |   |   |   |   |--- feature_57 >  0.50\n",
      "|   |   |   |   |   |   |--- feature_15 <= 0.50\n",
      "|   |   |   |   |   |   |   |--- feature_100 <= 0.50\n",
      "|   |   |   |   |   |   |   |   |--- value: [1.46]\n",
      "|   |   |   |   |   |   |   |--- feature_100 >  0.50\n",
      "|   |   |   |   |   |   |   |   |--- value: [1.44]\n",
      "|   |   |   |   |   |   |--- feature_15 >  0.50\n",
      "|   |   |   |   |   |   |   |--- feature_100 <= 0.50\n",
      "|   |   |   |   |   |   |   |   |--- feature_46 <= 0.50\n",
      "|   |   |   |   |   |   |   |   |   |--- value: [1.41]\n",
      "|   |   |   |   |   |   |   |   |--- feature_46 >  0.50\n",
      "|   |   |   |   |   |   |   |   |   |--- value: [1.44]\n",
      "|   |   |   |   |   |   |   |--- feature_100 >  0.50\n",
      "|   |   |   |   |   |   |   |   |--- value: [1.37]\n",
      "|   |   |   |   |--- feature_50 >  0.50\n",
      "|   |   |   |   |   |--- feature_100 <= 0.50\n",
      "|   |   |   |   |   |   |--- feature_37 <= 0.50\n",
      "|   |   |   |   |   |   |   |--- feature_117 <= 0.50\n",
      "|   |   |   |   |   |   |   |   |--- feature_95 <= 0.50\n",
      "|   |   |   |   |   |   |   |   |   |--- feature_10 <= 0.50\n",
      "|   |   |   |   |   |   |   |   |   |   |--- feature_16 <= 0.50\n",
      "|   |   |   |   |   |   |   |   |   |   |   |--- value: [1.34]\n",
      "|   |   |   |   |   |   |   |   |   |   |--- feature_16 >  0.50\n",
      "|   |   |   |   |   |   |   |   |   |   |   |--- value: [1.34]\n",
      "|   |   |   |   |   |   |   |   |   |--- feature_10 >  0.50\n",
      "|   |   |   |   |   |   |   |   |   |   |--- value: [1.34]\n",
      "|   |   |   |   |   |   |   |   |--- feature_95 >  0.50\n",
      "|   |   |   |   |   |   |   |   |   |--- value: [1.34]\n",
      "|   |   |   |   |   |   |   |--- feature_117 >  0.50\n",
      "|   |   |   |   |   |   |   |   |--- value: [1.38]\n",
      "|   |   |   |   |   |   |--- feature_37 >  0.50\n",
      "|   |   |   |   |   |   |   |--- value: [1.38]\n",
      "|   |   |   |   |   |--- feature_100 >  0.50\n",
      "|   |   |   |   |   |   |--- value: [1.31]\n",
      "|   |   |   |--- feature_103 >  0.50\n",
      "|   |   |   |   |--- feature_49 <= 0.50\n",
      "|   |   |   |   |   |--- feature_57 <= 0.50\n",
      "|   |   |   |   |   |   |--- feature_40 <= 0.50\n",
      "|   |   |   |   |   |   |   |--- value: [1.26]\n",
      "|   |   |   |   |   |   |--- feature_40 >  0.50\n",
      "|   |   |   |   |   |   |   |--- value: [1.26]\n",
      "|   |   |   |   |   |--- feature_57 >  0.50\n",
      "|   |   |   |   |   |   |--- feature_16 <= 0.50\n",
      "|   |   |   |   |   |   |   |--- feature_14 <= 0.50\n",
      "|   |   |   |   |   |   |   |   |--- value: [1.22]\n",
      "|   |   |   |   |   |   |   |--- feature_14 >  0.50\n",
      "|   |   |   |   |   |   |   |   |--- value: [1.22]\n",
      "|   |   |   |   |   |   |--- feature_16 >  0.50\n",
      "|   |   |   |   |   |   |   |--- value: [1.24]\n",
      "|   |   |   |   |--- feature_49 >  0.50\n",
      "|   |   |   |   |   |--- feature_15 <= 0.50\n",
      "|   |   |   |   |   |   |--- feature_41 <= 0.50\n",
      "|   |   |   |   |   |   |   |--- value: [1.39]\n",
      "|   |   |   |   |   |   |--- feature_41 >  0.50\n",
      "|   |   |   |   |   |   |   |--- value: [1.31]\n",
      "|   |   |   |   |   |--- feature_15 >  0.50\n",
      "|   |   |   |   |   |   |--- value: [1.13]\n",
      "\n"
     ]
    }
   ],
   "source": [
    "estimator = regressor.estimators_[5]\n",
    "print(export_text(estimator))"
   ]
  },
  {
   "cell_type": "code",
   "execution_count": null,
   "id": "generic-brook",
   "metadata": {},
   "outputs": [],
   "source": []
  },
  {
   "cell_type": "code",
   "execution_count": 27,
   "id": "optimum-prefix",
   "metadata": {},
   "outputs": [],
   "source": [
    "residuals = y_test-y_pred"
   ]
  },
  {
   "cell_type": "code",
   "execution_count": 28,
   "id": "ultimate-skating",
   "metadata": {},
   "outputs": [
    {
     "ename": "NameError",
     "evalue": "name 'sns' is not defined",
     "output_type": "error",
     "traceback": [
      "\u001b[0;31m---------------------------------------------------------------------------\u001b[0m",
      "\u001b[0;31mNameError\u001b[0m                                 Traceback (most recent call last)",
      "\u001b[0;32m<ipython-input-28-fe0a1c91f0c7>\u001b[0m in \u001b[0;36m<module>\u001b[0;34m\u001b[0m\n\u001b[0;32m----> 1\u001b[0;31m \u001b[0msns\u001b[0m\u001b[0;34m.\u001b[0m\u001b[0mhistplot\u001b[0m\u001b[0;34m(\u001b[0m\u001b[0mresiduals\u001b[0m\u001b[0;34m)\u001b[0m\u001b[0;34m\u001b[0m\u001b[0;34m\u001b[0m\u001b[0m\n\u001b[0m",
      "\u001b[0;31mNameError\u001b[0m: name 'sns' is not defined"
     ]
    }
   ],
   "source": [
    "sns.histplot(residuals)"
   ]
  },
  {
   "cell_type": "code",
   "execution_count": 230,
   "id": "sweet-legend",
   "metadata": {},
   "outputs": [],
   "source": []
  },
  {
   "cell_type": "code",
   "execution_count": null,
   "id": "cooperative-crossing",
   "metadata": {},
   "outputs": [],
   "source": [
    "from phenixml.utils.eval_utils import tukey_test\n",
    "outliers_prob,outliers_poss = tukey_test(residuals)\n",
    "print(len(outliers_poss),(len(outliers_poss)/len(y_test))*100)\n",
    "print(len(outliers_prob),(len(outliers_prob)/len(y_test))*100)"
   ]
  },
  {
   "cell_type": "code",
   "execution_count": null,
   "id": "daily-belle",
   "metadata": {},
   "outputs": [],
   "source": []
  },
  {
   "cell_type": "code",
   "execution_count": 198,
   "id": "hollywood-accordance",
   "metadata": {},
   "outputs": [
    {
     "data": {
      "text/plain": [
       "Text(0, 0.5, 'Predicted')"
      ]
     },
     "execution_count": 198,
     "metadata": {},
     "output_type": "execute_result"
    },
    {
     "data": {
      "image/png": "[encoded data removed]",
      "text/plain": [
       "<Figure size 432x288 with 1 Axes>"
      ]
     },
     "metadata": {
      "needs_background": "light"
     },
     "output_type": "display_data"
    }
   ],
   "source": [
    "mode = \"bond\"\n",
    "df = pd.DataFrame({\"dists\":y_test.flatten(),\"pred\":y_pred.flatten()})\n",
    "ax = df.plot.scatter(\"dists\",\"pred\",s=0.25)\n",
    "if mode == \"bond\":\n",
    "  ax.set_xlim(1,1.8)\n",
    "  ax.set_ylim(1,1.8)\n",
    "elif mode == \"angle\":\n",
    "  ax.set_xlim(50,140)\n",
    "  ax.set_ylim(50,140)\n",
    "ax.plot([0,200],[0,200],color=\"black\")\n",
    "ax.set_xlabel(\"Experimental\",fontsize=14)\n",
    "ax.set_ylabel(\"Predicted\",fontsize=14)"
   ]
  },
  {
   "cell_type": "code",
   "execution_count": 72,
   "id": "elder-stopping",
   "metadata": {},
   "outputs": [
    {
     "data": {
      "text/plain": [
       "Text(0, 0.5, 'Predicted')"
      ]
     },
     "execution_count": 72,
     "metadata": {},
     "output_type": "execute_result"
    },
    {
     "data": {
      "image/png": "[encoded data removed]",
      "text/plain": [
       "<Figure size 432x288 with 1 Axes>"
      ]
     },
     "metadata": {
      "needs_background": "light"
     },
     "output_type": "display_data"
    }
   ],
   "source": [
    "mode = \"angle\"\n",
    "df = pd.DataFrame({\"dists\":y_test.flatten(),\"pred\":y_pred.flatten()})\n",
    "ax = df.plot.scatter(\"dists\",\"pred\",s=0.25)\n",
    "if mode == \"bond\":\n",
    "  ax.set_xlim(1,1.8)\n",
    "  ax.set_ylim(1,1.8)\n",
    "elif mode == \"angle\":\n",
    "  ax.set_xlim(50,140)\n",
    "  ax.set_ylim(50,140)\n",
    "ax.plot([0,200],[0,200],color=\"black\")\n",
    "ax.set_xlabel(\"Experimental\",fontsize=14)\n",
    "ax.set_ylabel(\"Predicted\",fontsize=14)"
   ]
  },
  {
   "cell_type": "code",
   "execution_count": 35,
   "id": "economic-league",
   "metadata": {},
   "outputs": [
    {
     "data": {
      "text/plain": [
       "Text(0, 0.5, 'Predicted')"
      ]
     },
     "execution_count": 35,
     "metadata": {},
     "output_type": "execute_result"
    },
    {
     "data": {
      "image/png": "[encoded data removed]",
      "text/plain": [
       "<Figure size 432x288 with 1 Axes>"
      ]
     },
     "metadata": {
      "needs_background": "light"
     },
     "output_type": "display_data"
    }
   ],
   "source": [
    "mode = \"bond\"\n",
    "df = pd.DataFrame({\"dists\":y_test.flatten(),\"pred\":y_pred.flatten()})\n",
    "ax = df.plot.scatter(\"dists\",\"pred\",s=0.25)\n",
    "if mode == \"bond\":\n",
    "  ax.set_xlim(1,1.8)\n",
    "  ax.set_ylim(1,1.8)\n",
    "elif mode == \"angle\":\n",
    "  ax.set_xlim(50,140)\n",
    "  ax.set_ylim(50,140)\n",
    "ax.plot([0,200],[0,200],color=\"black\")\n",
    "ax.set_xlabel(\"Experimental\",fontsize=14)\n",
    "ax.set_ylabel(\"Predicted\",fontsize=14)"
   ]
  },
  {
   "cell_type": "code",
   "execution_count": 132,
   "id": "gothic-bleeding",
   "metadata": {},
   "outputs": [
    {
     "data": {
      "text/plain": [
       "array([0.58598385, 0.57785496, 0.56124521, 0.59287806, 0.57086378])"
      ]
     },
     "execution_count": 132,
     "metadata": {},
     "output_type": "execute_result"
    }
   ],
   "source": [
    "cross_val_score(regressor, X_test,y_test,scoring=\"r2\",n_jobs=-1)"
   ]
  },
  {
   "cell_type": "code",
   "execution_count": 133,
   "id": "varied-kingston",
   "metadata": {},
   "outputs": [
    {
     "data": {
      "text/plain": [
       "array([['C', 'O'],\n",
       "       ['C', 'N'],\n",
       "       ['C', 'N'],\n",
       "       ...,\n",
       "       ['C', 'C'],\n",
       "       ['C', 'C'],\n",
       "       ['C', 'C']], dtype='<U2')"
      ]
     },
     "execution_count": 133,
     "metadata": {},
     "output_type": "execute_result"
    }
   ],
   "source": [
    "tokens"
   ]
  },
  {
   "cell_type": "code",
   "execution_count": 87,
   "id": "portable-madness",
   "metadata": {},
   "outputs": [
    {
     "data": {
      "text/plain": [
       "Text(0, 0.5, 'Predicted')"
      ]
     },
     "execution_count": 87,
     "metadata": {},
     "output_type": "execute_result"
    },
    {
     "data": {
      "image/png": "[encoded data removed]",
      "text/plain": [
       "<Figure size 432x288 with 1 Axes>"
      ]
     },
     "metadata": {
      "needs_background": "light"
     },
     "output_type": "display_data"
    }
   ],
   "source": [
    "mode = \"bond\"\n",
    "df = pd.DataFrame({\"dists\":y_test.flatten(),\"pred\":y_pred.flatten()})\n",
    "ax = df.plot.scatter(\"dists\",\"pred\",s=0.25)\n",
    "if mode == \"bond\":\n",
    "  ax.set_xlim(1,1.8)\n",
    "  ax.set_ylim(1,1.8)\n",
    "elif mode == \"angle\":\n",
    "  ax.set_xlim(50,140)\n",
    "  ax.set_ylim(50,140)\n",
    "ax.plot([0,200],[0,200],color=\"black\")\n",
    "ax.set_xlabel(\"Experimental\",fontsize=14)\n",
    "ax.set_ylabel(\"Predicted\",fontsize=14)"
   ]
  },
  {
   "cell_type": "code",
   "execution_count": 86,
   "id": "appreciated-excellence",
   "metadata": {},
   "outputs": [],
   "source": [
    "from sklearn.metrics import mean_squared_error\n",
    "import seaborn as sns"
   ]
  },
  {
   "cell_type": "code",
   "execution_count": 87,
   "id": "subject-stamp",
   "metadata": {},
   "outputs": [
    {
     "data": {
      "text/plain": [
       "<AxesSubplot:ylabel='Count'>"
      ]
     },
     "execution_count": 87,
     "metadata": {},
     "output_type": "execute_result"
    },
    {
     "data": {
      "image/png": "[encoded data removed]",
      "text/plain": [
       "<Figure size 432x288 with 1 Axes>"
      ]
     },
     "metadata": {
      "needs_background": "light"
     },
     "output_type": "display_data"
    }
   ],
   "source": [
    "sns.histplot(y_test-y_pred)"
   ]
  },
  {
   "cell_type": "code",
   "execution_count": 88,
   "id": "ceramic-poverty",
   "metadata": {},
   "outputs": [
    {
     "name": "stdout",
     "output_type": "stream",
     "text": [
      "RMSE: 5.552888532264999\n"
     ]
    }
   ],
   "source": [
    "rmse = np.sqrt(mean_squared_error(y_test,y_pred))\n",
    "print(\"RMSE:\",rmse)"
   ]
  },
  {
   "cell_type": "code",
   "execution_count": null,
   "id": "under-arizona",
   "metadata": {},
   "outputs": [],
   "source": []
  },
  {
   "cell_type": "code",
   "execution_count": null,
   "id": "remarkable-tuition",
   "metadata": {},
   "outputs": [],
   "source": []
  },
  {
   "cell_type": "code",
   "execution_count": 110,
   "id": "supreme-ballet",
   "metadata": {},
   "outputs": [],
   "source": [
    "error = np.sqrt((y_test-y_pred)**2)"
   ]
  },
  {
   "cell_type": "code",
   "execution_count": 111,
   "id": "excited-television",
   "metadata": {},
   "outputs": [],
   "source": [
    "sorted_error = np.flip(np.argsort(error))"
   ]
  },
  {
   "cell_type": "code",
   "execution_count": 116,
   "id": "ceramic-guide",
   "metadata": {},
   "outputs": [
    {
     "data": {
      "text/plain": [
       "array([ 596,  352,  986, ...,  279,  579, 1152])"
      ]
     },
     "execution_count": 116,
     "metadata": {},
     "output_type": "execute_result"
    }
   ],
   "source": [
    "sorted_error"
   ]
  },
  {
   "cell_type": "code",
   "execution_count": 117,
   "id": "informed-swiss",
   "metadata": {},
   "outputs": [
    {
     "name": "stdout",
     "output_type": "stream",
     "text": [
      "[['C' '1' 'C']]\n",
      "['C' '1' 'C']\n",
      "0.2783308842534993\n",
      "1.2220201918363092 1.5003510760898084\n",
      "\n"
     ]
    }
   ],
   "source": [
    "i = sorted_error[20]\n",
    "frag = frags_test[i]\n",
    "print(encoder.inverse_transform(X_test[i]))\n",
    "print(tokens_test[i])\n",
    "print(error[i])\n",
    "print(y_test[i],y_pred[i])\n",
    "print()"
   ]
  },
  {
   "cell_type": "code",
   "execution_count": 119,
   "id": "comparable-stewart",
   "metadata": {},
   "outputs": [
    {
     "data": {
      "text/plain": [
       "['N', '2', 'O']"
      ]
     },
     "execution_count": 119,
     "metadata": {},
     "output_type": "execute_result"
    }
   ],
   "source": [
    "bond_tokenizer.featurize(frag)"
   ]
  },
  {
   "cell_type": "code",
   "execution_count": null,
   "id": "elect-murray",
   "metadata": {},
   "outputs": [],
   "source": []
  },
  {
   "cell_type": "code",
   "execution_count": null,
   "id": "junior-highland",
   "metadata": {},
   "outputs": [],
   "source": []
  },
  {
   "cell_type": "code",
   "execution_count": 114,
   "id": "personal-racing",
   "metadata": {},
   "outputs": [
    {
     "data": {
      "image/png": "[encoded data removed]",
      "text/plain": [
       "<Figure size 720x720 with 1 Axes>"
      ]
     },
     "metadata": {
      "needs_background": "light"
     },
     "output_type": "display_data"
    }
   ],
   "source": [
    "frag.show(only_connected=False)"
   ]
  },
  {
   "cell_type": "code",
   "execution_count": 355,
   "id": "athletic-landing",
   "metadata": {},
   "outputs": [
    {
     "name": "stderr",
     "output_type": "stream",
     "text": [
      "/net/cci/cschlick/Software/miniconda3/envs/cod_validation/lib/python3.8/site-packages/ipykernel/ipkernel.py:283: DeprecationWarning: `should_run_async` will not call `transform_cell` automatically in the future. Please pass the result to `transformed_cell` argument and any exception that happen during thetransform in `preprocessing_exc_tuple` in IPython 7.17 and above.\n",
      "  and should_run_async(code)\n"
     ]
    },
    {
     "data": {
      "text/plain": [
       "\u001b[0;31mSignature:\u001b[0m \u001b[0mencoder\u001b[0m\u001b[0;34m.\u001b[0m\u001b[0mtransform\u001b[0m\u001b[0;34m(\u001b[0m\u001b[0mX\u001b[0m\u001b[0;34m)\u001b[0m\u001b[0;34m\u001b[0m\u001b[0;34m\u001b[0m\u001b[0m\n",
       "\u001b[0;31mDocstring:\u001b[0m\n",
       "Transform X using one-hot encoding.\n",
       "\n",
       "Parameters\n",
       "----------\n",
       "X : array-like, shape [n_samples, n_features]\n",
       "    The data to encode.\n",
       "\n",
       "Returns\n",
       "-------\n",
       "X_out : sparse matrix if sparse=True else a 2-d array\n",
       "    Transformed input.\n",
       "\u001b[0;31mFile:\u001b[0m      ~/Software/miniconda3/envs/cod_validation/lib/python3.8/site-packages/sklearn/preprocessing/_encoders.py\n",
       "\u001b[0;31mType:\u001b[0m      method\n"
      ]
     },
     "metadata": {},
     "output_type": "display_data"
    }
   ],
   "source": [
    "encoder.transform?"
   ]
  },
  {
   "cell_type": "code",
   "execution_count": 356,
   "id": "constant-immigration",
   "metadata": {},
   "outputs": [
    {
     "name": "stderr",
     "output_type": "stream",
     "text": [
      "/net/cci/cschlick/Software/miniconda3/envs/cod_validation/lib/python3.8/site-packages/ipykernel/ipkernel.py:283: DeprecationWarning: `should_run_async` will not call `transform_cell` automatically in the future. Please pass the result to `transformed_cell` argument and any exception that happen during thetransform in `preprocessing_exc_tuple` in IPython 7.17 and above.\n",
      "  and should_run_async(code)\n"
     ]
    },
    {
     "data": {
      "text/plain": [
       "array([['C', '4', 'C']], dtype=object)"
      ]
     },
     "execution_count": 356,
     "metadata": {},
     "output_type": "execute_result"
    }
   ],
   "source": [
    "encoder.inverse_transform(X_test[i])"
   ]
  },
  {
   "cell_type": "code",
   "execution_count": 357,
   "id": "plastic-sacramento",
   "metadata": {},
   "outputs": [],
   "source": [
    "labels_check = encoder.inverse_transform(X_test)"
   ]
  },
  {
   "cell_type": "code",
   "execution_count": 360,
   "id": "unique-white",
   "metadata": {},
   "outputs": [
    {
     "name": "stderr",
     "output_type": "stream",
     "text": [
      "/net/cci/cschlick/Software/miniconda3/envs/cod_validation/lib/python3.8/site-packages/ipykernel/ipkernel.py:283: DeprecationWarning: `should_run_async` will not call `transform_cell` automatically in the future. Please pass the result to `transformed_cell` argument and any exception that happen during thetransform in `preprocessing_exc_tuple` in IPython 7.17 and above.\n",
      "  and should_run_async(code)\n"
     ]
    },
    {
     "data": {
      "text/plain": [
       "array(['C', '4', 'C'], dtype='<U2')"
      ]
     },
     "execution_count": 360,
     "metadata": {},
     "output_type": "execute_result"
    }
   ],
   "source": [
    "bond_tokens2[test[i]]"
   ]
  },
  {
   "cell_type": "code",
   "execution_count": 358,
   "id": "quiet-rating",
   "metadata": {},
   "outputs": [
    {
     "name": "stderr",
     "output_type": "stream",
     "text": [
      "/net/cci/cschlick/Software/miniconda3/envs/cod_validation/lib/python3.8/site-packages/ipykernel/ipkernel.py:283: DeprecationWarning: `should_run_async` will not call `transform_cell` automatically in the future. Please pass the result to `transformed_cell` argument and any exception that happen during thetransform in `preprocessing_exc_tuple` in IPython 7.17 and above.\n",
      "  and should_run_async(code)\n"
     ]
    },
    {
     "data": {
      "text/plain": [
       "array([['C', '1', 'C'],\n",
       "       ['O', '1', 'S'],\n",
       "       ['C', '1', 'O'],\n",
       "       ...,\n",
       "       ['C', '1', 'N'],\n",
       "       ['C', '4', 'C'],\n",
       "       ['C', '4', 'C']], dtype=object)"
      ]
     },
     "execution_count": 358,
     "metadata": {},
     "output_type": "execute_result"
    }
   ],
   "source": [
    "labels_check"
   ]
  },
  {
   "cell_type": "code",
   "execution_count": 298,
   "id": "turkish-promotion",
   "metadata": {},
   "outputs": [
    {
     "data": {
      "text/plain": [
       "Text(0, 0.5, 'Predicted')"
      ]
     },
     "execution_count": 298,
     "metadata": {},
     "output_type": "execute_result"
    },
    {
     "data": {
      "image/png": "[encoded data removed]",
      "text/plain": [
       "<Figure size 432x288 with 1 Axes>"
      ]
     },
     "metadata": {
      "needs_background": "light"
     },
     "output_type": "display_data"
    }
   ],
   "source": [
    "mode = \"bond\"\n",
    "df = pd.DataFrame({\"dists\":y_test.flatten(),\"pred\":y_pred.flatten()})\n",
    "ax = df.plot.scatter(\"dists\",\"pred\",s=0.25)\n",
    "if mode == \"bond\":\n",
    "  ax.set_xlim(1,1.8)\n",
    "  ax.set_ylim(1,1.8)\n",
    "elif mode == \"angle\":\n",
    "  ax.set_xlim(50,140)\n",
    "  ax.set_ylim(50,140)\n",
    "ax.plot([0,200],[0,200],color=\"black\")\n",
    "ax.set_xlabel(\"Experimental\",fontsize=14)\n",
    "ax.set_ylabel(\"Predicted\",fontsize=14)"
   ]
  },
  {
   "cell_type": "code",
   "execution_count": null,
   "id": "protective-spokesman",
   "metadata": {},
   "outputs": [],
   "source": []
  }
 ],
 "metadata": {
  "kernelspec": {
   "display_name": "Python 3",
   "language": "python",
   "name": "python3"
  },
  "language_info": {
   "codemirror_mode": {
    "name": "ipython",
    "version": 3
   },
   "file_extension": ".py",
   "mimetype": "text/x-python",
   "name": "python",
   "nbconvert_exporter": "python",
   "pygments_lexer": "ipython3",
   "version": "3.8.6"
  }
 },
 "nbformat": 4,
 "nbformat_minor": 5
}
