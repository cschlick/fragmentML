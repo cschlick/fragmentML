{
 "cells": [
  {
   "cell_type": "code",
   "execution_count": 1,
   "id": "respective-spare",
   "metadata": {},
   "outputs": [],
   "source": [
    "from multiprocessing import Pool\n",
    "import tqdm\n",
    "import pickle\n",
    "from pathlib import Path\n",
    "from contextlib import closing\n",
    "from rdkit import Chem\n",
    "import numpy as np\n",
    "import pandas as pd"
   ]
  },
  {
   "cell_type": "code",
   "execution_count": 2,
   "id": "floral-cambodia",
   "metadata": {},
   "outputs": [],
   "source": [
    "import sys\n",
    "sys.path.append(\"../\")"
   ]
  },
  {
   "cell_type": "code",
   "execution_count": 3,
   "id": "particular-courage",
   "metadata": {},
   "outputs": [
    {
     "name": "stdout",
     "output_type": "stream",
     "text": [
      "CPU times: user 30 s, sys: 11.4 s, total: 41.4 s\n",
      "Wall time: 41.6 s\n"
     ]
    }
   ],
   "source": [
    "%%time\n",
    "fragments_path = Path(\"/net/cci/cschlick/Filtered_COD3/fragments.pkl\")\n",
    "with fragments_path.open(\"rb\") as fh:\n",
    "  fragments = pickle.load(fh)"
   ]
  },
  {
   "cell_type": "code",
   "execution_count": null,
   "id": "packed-approval",
   "metadata": {},
   "outputs": [],
   "source": []
  },
  {
   "cell_type": "code",
   "execution_count": 4,
   "id": "hindu-oliver",
   "metadata": {},
   "outputs": [],
   "source": [
    "N_max = -1\n",
    "angle_fragments = []\n",
    "bond_fragments = []\n",
    "for i,result in enumerate(fragments):\n",
    "  if i<N_max or N_max == -1:\n",
    "    angle_fragments+=result[\"angle_fragments\"]\n",
    "    bond_fragments+=result[\"bond_fragments\"]"
   ]
  },
  {
   "cell_type": "code",
   "execution_count": 5,
   "id": "experimental-assembly",
   "metadata": {},
   "outputs": [],
   "source": [
    "from phenixml.featurizers.fingerprints import MorganFeaturizer"
   ]
  },
  {
   "cell_type": "code",
   "execution_count": 6,
   "id": "elder-courage",
   "metadata": {},
   "outputs": [],
   "source": [
    "def worker_angle(angle_fragment):\n",
    "  angle_featurizer = MorganFeaturizer(radius=2,nBits=2048)\n",
    "  return angle_featurizer.featurize(angle_fragment)\n",
    "\n",
    "def worker_bond(bond_fragment):\n",
    "  bond_featurizer = MorganFeaturizer(radius=2,nBits=2048)\n",
    "  return bond_featurizer.featurize(bond_fragment)"
   ]
  },
  {
   "cell_type": "code",
   "execution_count": 7,
   "id": "further-portfolio",
   "metadata": {},
   "outputs": [
    {
     "name": "stderr",
     "output_type": "stream",
     "text": [
      "100%|██████████| 2657850/2657850 [00:00<00:00, 2759961.84it/s]\n"
     ]
    }
   ],
   "source": [
    "work = angle_fragments\n",
    "with closing(Pool(processes=32)) as pool:\n",
    "  angle_features = []\n",
    "  for result in tqdm.tqdm(pool.map(worker_angle, work), total=len(work)):\n",
    "      angle_features.append(result)\n",
    "  pool.terminate()"
   ]
  },
  {
   "cell_type": "code",
   "execution_count": 8,
   "id": "little-volume",
   "metadata": {},
   "outputs": [
    {
     "name": "stderr",
     "output_type": "stream",
     "text": [
      "100%|██████████| 1856810/1856810 [00:00<00:00, 2331979.49it/s]\n"
     ]
    }
   ],
   "source": [
    "work = bond_fragments\n",
    "with closing(Pool(processes=16)) as pool:\n",
    "  bond_features = []\n",
    "  for result in tqdm.tqdm(pool.map(worker_bond, work), total=len(work)):\n",
    "      bond_features.append(result)\n",
    "  pool.terminate()"
   ]
  },
  {
   "cell_type": "code",
   "execution_count": null,
   "id": "miniature-browser",
   "metadata": {},
   "outputs": [],
   "source": []
  },
  {
   "cell_type": "code",
   "execution_count": 9,
   "id": "municipal-shelf",
   "metadata": {},
   "outputs": [],
   "source": [
    "bond_features = np.array(bond_features)\n",
    "bond_features = np.array(bond_features)"
   ]
  },
  {
   "cell_type": "code",
   "execution_count": 10,
   "id": "alike-theme",
   "metadata": {},
   "outputs": [],
   "source": [
    "from sklearn.ensemble import RandomForestRegressor\n",
    "from sklearn.model_selection import train_test_split"
   ]
  },
  {
   "cell_type": "code",
   "execution_count": 11,
   "id": "silent-multimedia",
   "metadata": {},
   "outputs": [],
   "source": [
    "mode = \"bond\"\n",
    "if mode ==\"bond\":\n",
    "  X = bond_features\n",
    "  y =  np.array([frag.properties[\"bond_length\"] for frag in bond_fragments])\n",
    "  space = np.arange(X.shape[0])\n",
    "  train, test = train_test_split(space,test_size=0.2)\n",
    "  frags_train, frags_test = [angle_fragments[i] for i in train], [angle_fragments[i] for i in test]\n",
    "elif mode == \"angle\":\n",
    "  X = angle_features\n",
    "  y =  np.array([frag.properties[\"angle_deg\"] for frag in angle_fragments])\n",
    "  train, test = train_test_split(space,test_size=0.2)\n",
    "  frags_train, frags_test = [angle_fragments[i] for i in train], [angle_fragments[i] for i in test]\n",
    "  \n",
    "X_train, X_test = X[train],X[test]\n",
    "y_train, y_test = y[train],y[test]"
   ]
  },
  {
   "cell_type": "code",
   "execution_count": 14,
   "id": "editorial-appearance",
   "metadata": {},
   "outputs": [],
   "source": [
    "regressor = RandomForestRegressor(n_estimators=100,min_samples_split=2, random_state=0,n_jobs=-1)"
   ]
  },
  {
   "cell_type": "code",
   "execution_count": 23,
   "id": "french-literacy",
   "metadata": {},
   "outputs": [
    {
     "name": "stdout",
     "output_type": "stream",
     "text": [
      "CPU times: user 4h 43min 34s, sys: 3min 35s, total: 4h 47min 10s\n",
      "Wall time: 7min 1s\n"
     ]
    },
    {
     "data": {
      "text/plain": [
       "RandomForestRegressor(n_jobs=-1, random_state=0)"
      ]
     },
     "execution_count": 23,
     "metadata": {},
     "output_type": "execute_result"
    }
   ],
   "source": [
    "%%time\n",
    "N = 100000\n",
    "regressor.fit(X_train[:N],y_train[:N])"
   ]
  },
  {
   "cell_type": "code",
   "execution_count": 24,
   "id": "clinical-internet",
   "metadata": {},
   "outputs": [],
   "source": [
    "M = int(N*.2)\n",
    "y_pred = regressor.predict(X_test[:M])"
   ]
  },
  {
   "cell_type": "code",
   "execution_count": 25,
   "id": "hollywood-surgery",
   "metadata": {},
   "outputs": [
    {
     "data": {
      "text/plain": [
       "Text(0, 0.5, 'Predicted')"
      ]
     },
     "execution_count": 25,
     "metadata": {},
     "output_type": "execute_result"
    },
    {
     "data": {
      "image/png": "[encoded data removed]",
      "text/plain": [
       "<Figure size 432x288 with 1 Axes>"
      ]
     },
     "metadata": {
      "needs_background": "light"
     },
     "output_type": "display_data"
    }
   ],
   "source": [
    "df = pd.DataFrame({\"dists\":y_test[:M].flatten(),\"pred\":y_pred.flatten()})\n",
    "ax = df.plot.scatter(\"dists\",\"pred\",s=0.25)\n",
    "if mode == \"bond\":\n",
    "  ax.set_xlim(1,1.8)\n",
    "  ax.set_ylim(1,1.8)\n",
    "elif mode == \"angle\":\n",
    "  ax.set_xlim(50,140)\n",
    "  ax.set_ylim(50,140)\n",
    "ax.plot([0,200],[0,200],color=\"black\")\n",
    "ax.set_xlabel(\"Experimental\",fontsize=14)\n",
    "ax.set_ylabel(\"Predicted\",fontsize=14)"
   ]
  },
  {
   "cell_type": "code",
   "execution_count": 26,
   "id": "subject-artist",
   "metadata": {},
   "outputs": [],
   "source": [
    "from sklearn.metrics import mean_squared_error\n",
    "import seaborn as sns"
   ]
  },
  {
   "cell_type": "code",
   "execution_count": 32,
   "id": "enormous-religious",
   "metadata": {},
   "outputs": [
    {
     "data": {
      "text/plain": [
       "<AxesSubplot:ylabel='Count'>"
      ]
     },
     "execution_count": 32,
     "metadata": {},
     "output_type": "execute_result"
    },
    {
     "data": {
      "image/png": "[encoded data removed]",
      "text/plain": [
       "<Figure size 432x288 with 1 Axes>"
      ]
     },
     "metadata": {
      "needs_background": "light"
     },
     "output_type": "display_data"
    }
   ],
   "source": [
    "residuals = y_test[:M]-y_pred\n",
    "sns.histplot(residuals)"
   ]
  },
  {
   "cell_type": "code",
   "execution_count": 112,
   "id": "split-biography",
   "metadata": {},
   "outputs": [
    {
     "name": "stdout",
     "output_type": "stream",
     "text": [
      "RMSE: 0.0629523062426915\n"
     ]
    }
   ],
   "source": [
    "rmse = np.sqrt(mean_squared_error(y_test,y_pred))\n",
    "print(\"RMSE:\",rmse)"
   ]
  },
  {
   "cell_type": "code",
   "execution_count": 31,
   "id": "pharmaceutical-louis",
   "metadata": {},
   "outputs": [],
   "source": [
    "from phenixml.utils.eval_utils import tukey_test"
   ]
  },
  {
   "cell_type": "code",
   "execution_count": 36,
   "id": "european-hormone",
   "metadata": {},
   "outputs": [],
   "source": [
    "outliers_prob,outliers_poss = tukey_test(residuals)"
   ]
  },
  {
   "cell_type": "code",
   "execution_count": 39,
   "id": "suburban-worse",
   "metadata": {},
   "outputs": [
    {
     "name": "stdout",
     "output_type": "stream",
     "text": [
      "1559\n",
      "543\n"
     ]
    }
   ],
   "source": [
    "print(len(outliers_poss))\n",
    "print(len(outliers_prob))"
   ]
  },
  {
   "cell_type": "code",
   "execution_count": null,
   "id": "animated-vancouver",
   "metadata": {},
   "outputs": [],
   "source": []
  },
  {
   "cell_type": "code",
   "execution_count": 117,
   "id": "criminal-needle",
   "metadata": {},
   "outputs": [
    {
     "name": "stdout",
     "output_type": "stream",
     "text": [
      "[['C' '1' 'C']]\n",
      "['C' '1' 'C']\n",
      "0.2783308842534993\n",
      "1.2220201918363092 1.5003510760898084\n",
      "\n"
     ]
    }
   ],
   "source": [
    "i = sorted_error[20]\n",
    "frag = frags_test[i]\n",
    "print(encoder.inverse_transform(X_test[i]))\n",
    "print(tokens_test[i])\n",
    "print(error[i])\n",
    "print(y_test[i],y_pred[i])\n",
    "print()"
   ]
  },
  {
   "cell_type": "code",
   "execution_count": 119,
   "id": "center-baghdad",
   "metadata": {},
   "outputs": [
    {
     "data": {
      "text/plain": [
       "['N', '2', 'O']"
      ]
     },
     "execution_count": 119,
     "metadata": {},
     "output_type": "execute_result"
    }
   ],
   "source": [
    "bond_tokenizer.featurize(frag)"
   ]
  },
  {
   "cell_type": "code",
   "execution_count": null,
   "id": "conventional-demographic",
   "metadata": {},
   "outputs": [],
   "source": []
  },
  {
   "cell_type": "code",
   "execution_count": null,
   "id": "front-blend",
   "metadata": {},
   "outputs": [],
   "source": []
  },
  {
   "cell_type": "code",
   "execution_count": 114,
   "id": "portuguese-munich",
   "metadata": {},
   "outputs": [
    {
     "data": {
      "image/png": "[encoded data removed]",
      "text/plain": [
       "<Figure size 720x720 with 1 Axes>"
      ]
     },
     "metadata": {
      "needs_background": "light"
     },
     "output_type": "display_data"
    }
   ],
   "source": [
    "frag.show(only_connected=False)"
   ]
  },
  {
   "cell_type": "code",
   "execution_count": 355,
   "id": "documentary-hostel",
   "metadata": {},
   "outputs": [
    {
     "name": "stderr",
     "output_type": "stream",
     "text": [
      "/net/cci/cschlick/Software/miniconda3/envs/cod_validation/lib/python3.8/site-packages/ipykernel/ipkernel.py:283: DeprecationWarning: `should_run_async` will not call `transform_cell` automatically in the future. Please pass the result to `transformed_cell` argument and any exception that happen during thetransform in `preprocessing_exc_tuple` in IPython 7.17 and above.\n",
      "  and should_run_async(code)\n"
     ]
    },
    {
     "data": {
      "text/plain": [
       "\u001b[0;31mSignature:\u001b[0m \u001b[0mencoder\u001b[0m\u001b[0;34m.\u001b[0m\u001b[0mtransform\u001b[0m\u001b[0;34m(\u001b[0m\u001b[0mX\u001b[0m\u001b[0;34m)\u001b[0m\u001b[0;34m\u001b[0m\u001b[0;34m\u001b[0m\u001b[0m\n",
       "\u001b[0;31mDocstring:\u001b[0m\n",
       "Transform X using one-hot encoding.\n",
       "\n",
       "Parameters\n",
       "----------\n",
       "X : array-like, shape [n_samples, n_features]\n",
       "    The data to encode.\n",
       "\n",
       "Returns\n",
       "-------\n",
       "X_out : sparse matrix if sparse=True else a 2-d array\n",
       "    Transformed input.\n",
       "\u001b[0;31mFile:\u001b[0m      ~/Software/miniconda3/envs/cod_validation/lib/python3.8/site-packages/sklearn/preprocessing/_encoders.py\n",
       "\u001b[0;31mType:\u001b[0m      method\n"
      ]
     },
     "metadata": {},
     "output_type": "display_data"
    }
   ],
   "source": [
    "encoder.transform?"
   ]
  },
  {
   "cell_type": "code",
   "execution_count": 356,
   "id": "normal-blame",
   "metadata": {},
   "outputs": [
    {
     "name": "stderr",
     "output_type": "stream",
     "text": [
      "/net/cci/cschlick/Software/miniconda3/envs/cod_validation/lib/python3.8/site-packages/ipykernel/ipkernel.py:283: DeprecationWarning: `should_run_async` will not call `transform_cell` automatically in the future. Please pass the result to `transformed_cell` argument and any exception that happen during thetransform in `preprocessing_exc_tuple` in IPython 7.17 and above.\n",
      "  and should_run_async(code)\n"
     ]
    },
    {
     "data": {
      "text/plain": [
       "array([['C', '4', 'C']], dtype=object)"
      ]
     },
     "execution_count": 356,
     "metadata": {},
     "output_type": "execute_result"
    }
   ],
   "source": [
    "encoder.inverse_transform(X_test[i])"
   ]
  },
  {
   "cell_type": "code",
   "execution_count": 357,
   "id": "identical-branch",
   "metadata": {},
   "outputs": [],
   "source": [
    "labels_check = encoder.inverse_transform(X_test)"
   ]
  },
  {
   "cell_type": "code",
   "execution_count": 360,
   "id": "authentic-omaha",
   "metadata": {},
   "outputs": [
    {
     "name": "stderr",
     "output_type": "stream",
     "text": [
      "/net/cci/cschlick/Software/miniconda3/envs/cod_validation/lib/python3.8/site-packages/ipykernel/ipkernel.py:283: DeprecationWarning: `should_run_async` will not call `transform_cell` automatically in the future. Please pass the result to `transformed_cell` argument and any exception that happen during thetransform in `preprocessing_exc_tuple` in IPython 7.17 and above.\n",
      "  and should_run_async(code)\n"
     ]
    },
    {
     "data": {
      "text/plain": [
       "array(['C', '4', 'C'], dtype='<U2')"
      ]
     },
     "execution_count": 360,
     "metadata": {},
     "output_type": "execute_result"
    }
   ],
   "source": [
    "bond_tokens2[test[i]]"
   ]
  },
  {
   "cell_type": "code",
   "execution_count": 358,
   "id": "known-knock",
   "metadata": {},
   "outputs": [
    {
     "name": "stderr",
     "output_type": "stream",
     "text": [
      "/net/cci/cschlick/Software/miniconda3/envs/cod_validation/lib/python3.8/site-packages/ipykernel/ipkernel.py:283: DeprecationWarning: `should_run_async` will not call `transform_cell` automatically in the future. Please pass the result to `transformed_cell` argument and any exception that happen during thetransform in `preprocessing_exc_tuple` in IPython 7.17 and above.\n",
      "  and should_run_async(code)\n"
     ]
    },
    {
     "data": {
      "text/plain": [
       "array([['C', '1', 'C'],\n",
       "       ['O', '1', 'S'],\n",
       "       ['C', '1', 'O'],\n",
       "       ...,\n",
       "       ['C', '1', 'N'],\n",
       "       ['C', '4', 'C'],\n",
       "       ['C', '4', 'C']], dtype=object)"
      ]
     },
     "execution_count": 358,
     "metadata": {},
     "output_type": "execute_result"
    }
   ],
   "source": [
    "labels_check"
   ]
  },
  {
   "cell_type": "code",
   "execution_count": 298,
   "id": "casual-shift",
   "metadata": {},
   "outputs": [
    {
     "data": {
      "text/plain": [
       "Text(0, 0.5, 'Predicted')"
      ]
     },
     "execution_count": 298,
     "metadata": {},
     "output_type": "execute_result"
    },
    {
     "data": {
      "image/png": "[encoded data removed]",
      "text/plain": [
       "<Figure size 432x288 with 1 Axes>"
      ]
     },
     "metadata": {
      "needs_background": "light"
     },
     "output_type": "display_data"
    }
   ],
   "source": [
    "mode = \"bond\"\n",
    "df = pd.DataFrame({\"dists\":y_test.flatten(),\"pred\":y_pred.flatten()})\n",
    "ax = df.plot.scatter(\"dists\",\"pred\",s=0.25)\n",
    "if mode == \"bond\":\n",
    "  ax.set_xlim(1,1.8)\n",
    "  ax.set_ylim(1,1.8)\n",
    "elif mode == \"angle\":\n",
    "  ax.set_xlim(50,140)\n",
    "  ax.set_ylim(50,140)\n",
    "ax.plot([0,200],[0,200],color=\"black\")\n",
    "ax.set_xlabel(\"Experimental\",fontsize=14)\n",
    "ax.set_ylabel(\"Predicted\",fontsize=14)"
   ]
  },
  {
   "cell_type": "code",
   "execution_count": null,
   "id": "compact-designer",
   "metadata": {},
   "outputs": [],
   "source": []
  }
 ],
 "metadata": {
  "kernelspec": {
   "display_name": "Python 3",
   "language": "python",
   "name": "python3"
  },
  "language_info": {
   "codemirror_mode": {
    "name": "ipython",
    "version": 3
   },
   "file_extension": ".py",
   "mimetype": "text/x-python",
   "name": "python",
   "nbconvert_exporter": "python",
   "pygments_lexer": "ipython3",
   "version": "3.8.6"
  }
 },
 "nbformat": 4,
 "nbformat_minor": 5
}
