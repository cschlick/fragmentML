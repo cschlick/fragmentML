{
 "cells": [
  {
   "cell_type": "code",
   "execution_count": 1,
   "id": "august-watts",
   "metadata": {},
   "outputs": [],
   "source": [
    "from multiprocessing import Pool\n",
    "import tqdm\n",
    "import pickle\n",
    "from pathlib import Path\n",
    "from contextlib import closing\n",
    "from rdkit import Chem\n",
    "import numpy as np\n",
    "import pandas as pd"
   ]
  },
  {
   "cell_type": "code",
   "execution_count": 2,
   "id": "christian-maine",
   "metadata": {},
   "outputs": [],
   "source": [
    "import sys\n",
    "sys.path.append(\"../../\")"
   ]
  },
  {
   "cell_type": "code",
   "execution_count": 3,
   "id": "dressed-black",
   "metadata": {},
   "outputs": [
    {
     "name": "stdout",
     "output_type": "stream",
     "text": [
      "CPU times: user 27.4 s, sys: 5.31 s, total: 32.7 s\n",
      "Wall time: 32.8 s\n"
     ]
    }
   ],
   "source": [
    "%%time\n",
    "fragments_path = Path(\"/net/cci/cschlick/Filtered_COD3/fragments.pkl\")\n",
    "with fragments_path.open(\"rb\") as fh:\n",
    "  fragments = pickle.load(fh)"
   ]
  },
  {
   "cell_type": "code",
   "execution_count": 4,
   "id": "voluntary-shakespeare",
   "metadata": {},
   "outputs": [],
   "source": [
    "results = fragments"
   ]
  },
  {
   "cell_type": "code",
   "execution_count": 5,
   "id": "logical-government",
   "metadata": {},
   "outputs": [],
   "source": [
    "N_max = -1\n",
    "angle_fragments = []\n",
    "bond_fragments = []\n",
    "for i,result in enumerate(fragments):\n",
    "  if i<N_max or N_max == -1:\n",
    "    angle_fragments+=result[\"angle_fragments\"]\n",
    "    bond_fragments+=result[\"bond_fragments\"]"
   ]
  },
  {
   "cell_type": "code",
   "execution_count": 6,
   "id": "intimate-thomson",
   "metadata": {},
   "outputs": [],
   "source": [
    "from phenixml.featurizers.ani_featurizer import ANIFeaturizer"
   ]
  },
  {
   "cell_type": "code",
   "execution_count": 7,
   "id": "daily-liberty",
   "metadata": {},
   "outputs": [],
   "source": [
    "# elements and parameters\n",
    "covalent_organic = [\"O\",\"C\",\"H\",\"N\",\"P\",\"S\",\"Cl\",\"B\",\"F\",\"I\",\"Br\"]\n",
    "metals = [\"Na\",\"K\",\"Ca\",\"Fe\",\"Mn\",\"Zn\",\"Mg\",\"Cu\",\"Co\"]\n",
    "\n",
    "params = {'radial_cutoff': 4.6,\n",
    " 'radial_nu': 32,\n",
    " 'radial_probes': [0.7,\n",
    "                  1.4,\n",
    "                  1.9,\n",
    "                  2.4,\n",
    "                  3.2,\n",
    "                  3.8,\n",
    "                  4.4],\n",
    " 'angular_cutoff': 3.1,\n",
    " 'angular_nu': 4,\n",
    " 'angular_probes': [0.0, 1.57, 3.14, 4.71],\n",
    " 'angular_radial_probes': [0.7,1.4,1.9,2.4],\n",
    " 'angular_zeta': 8,\n",
    " 'min_probed_value': 0.0,\n",
    " 'exclude_hydrogens': False,\n",
    " 'elements_considered': covalent_organic}"
   ]
  },
  {
   "cell_type": "code",
   "execution_count": 8,
   "id": "digital-cliff",
   "metadata": {},
   "outputs": [],
   "source": [
    "def worker_angle(result):\n",
    "  featurizer = ANIFeaturizer.from_bond_angle_frags(result[\"angle_fragments\"],params)\n",
    "  if featurizer is None:\n",
    "    return None\n",
    "  else:\n",
    "    return featurizer.featurize()\n",
    "\n",
    "def worker_bond(result):\n",
    "  featurizer = ANIFeaturizer.from_bond_angle_frags(result[\"bond_fragments\"],params)\n",
    "  if featurizer is None:\n",
    "    return None\n",
    "  else:\n",
    "    return featurizer.featurize()\n"
   ]
  },
  {
   "cell_type": "code",
   "execution_count": 9,
   "id": "fallen-bronze",
   "metadata": {},
   "outputs": [
    {
     "name": "stderr",
     "output_type": "stream",
     "text": [
      "100%|██████████| 63018/63018 [00:00<00:00, 1437081.49it/s]\n"
     ]
    }
   ],
   "source": [
    "work = results\n",
    "with closing(Pool(processes=32)) as pool:\n",
    "  angle_features = []\n",
    "  for result in tqdm.tqdm(pool.map(worker_angle, work), total=len(work)):\n",
    "      angle_features.append(result)\n",
    "  pool.terminate()"
   ]
  },
  {
   "cell_type": "code",
   "execution_count": 15,
   "id": "literary-failure",
   "metadata": {},
   "outputs": [
    {
     "name": "stderr",
     "output_type": "stream",
     "text": [
      "100%|██████████| 63018/63018 [00:00<00:00, 864701.12it/s]\n"
     ]
    }
   ],
   "source": [
    "# work = results\n",
    "# with closing(Pool(processes=64)) as pool:\n",
    "#   bond_features = []\n",
    "#   for result in tqdm.tqdm(pool.map(worker_bond, work), total=len(work)):\n",
    "#       bond_features.append(result)\n",
    "#   pool.terminate()"
   ]
  },
  {
   "cell_type": "code",
   "execution_count": 16,
   "id": "increased-dependence",
   "metadata": {},
   "outputs": [],
   "source": [
    "N_max = -1\n",
    "bond_fragments = []\n",
    "X = []\n",
    "for i,feature in enumerate(bond_features):\n",
    "  if i<N_max or N_max ==-1:\n",
    "    if feature is not None:\n",
    "      bond_fragments+=results[i][\"bond_fragments\"]\n",
    "      X.append(feature)\n",
    "X = np.vstack(X)"
   ]
  },
  {
   "cell_type": "code",
   "execution_count": 17,
   "id": "burning-justice",
   "metadata": {},
   "outputs": [
    {
     "data": {
      "text/plain": [
       "(1856810, 1133)"
      ]
     },
     "execution_count": 17,
     "metadata": {},
     "output_type": "execute_result"
    }
   ],
   "source": [
    "X.shape"
   ]
  },
  {
   "cell_type": "code",
   "execution_count": 18,
   "id": "mounted-silly",
   "metadata": {},
   "outputs": [],
   "source": [
    "from sklearn.ensemble import RandomForestRegressor\n",
    "from sklearn.model_selection import train_test_split"
   ]
  },
  {
   "cell_type": "code",
   "execution_count": 19,
   "id": "gentle-exhaust",
   "metadata": {},
   "outputs": [],
   "source": [
    "mode = \"bond\"\n",
    "if mode ==\"bond\":\n",
    "\n",
    "  y =  np.array([frag.properties[\"bond_length\"] for frag in bond_fragments])\n",
    "  space = np.arange(X.shape[0])\n",
    "  train, test = train_test_split(space,test_size=0.2)\n",
    "  frags_train, frags_test = [angle_fragments[i] for i in train], [angle_fragments[i] for i in test]\n",
    "elif mode == \"angle\":\n",
    "  X = angle_features\n",
    "  y =  np.array([frag.properties[\"angle_deg\"] for frag in angle_fragments])\n",
    "  train, test = train_test_split(space,test_size=0.2)\n",
    "  frags_train, frags_test = [angle_fragments[i] for i in train], [angle_fragments[i] for i in test]\n",
    "  \n",
    "X_train, X_test = X[train],X[test]\n",
    "y_train, y_test = y[train],y[test]"
   ]
  },
  {
   "cell_type": "code",
   "execution_count": 20,
   "id": "breeding-pressing",
   "metadata": {},
   "outputs": [],
   "source": [
    "regressor = RandomForestRegressor(n_estimators=100,min_samples_split=2, random_state=0,n_jobs=-1)"
   ]
  },
  {
   "cell_type": "code",
   "execution_count": 21,
   "id": "affecting-nightmare",
   "metadata": {},
   "outputs": [
    {
     "name": "stdout",
     "output_type": "stream",
     "text": [
      "CPU times: user 1d 8h 28min 1s, sys: 20min 48s, total: 1d 8h 48min 50s\n",
      "Wall time: 1h 10min 10s\n"
     ]
    },
    {
     "data": {
      "text/plain": [
       "RandomForestRegressor(n_jobs=-1, random_state=0)"
      ]
     },
     "execution_count": 21,
     "metadata": {},
     "output_type": "execute_result"
    }
   ],
   "source": [
    "%%time\n",
    "regressor.fit(X_train,y_train)"
   ]
  },
  {
   "cell_type": "code",
   "execution_count": 25,
   "id": "funky-partner",
   "metadata": {},
   "outputs": [],
   "source": [
    "y_pred = regressor.predict(X_test)"
   ]
  },
  {
   "cell_type": "code",
   "execution_count": 26,
   "id": "material-symphony",
   "metadata": {},
   "outputs": [
    {
     "data": {
      "text/plain": [
       "Text(0, 0.5, 'Predicted')"
      ]
     },
     "execution_count": 26,
     "metadata": {},
     "output_type": "execute_result"
    },
    {
     "data": {
      "image/png": "[encoded data removed]",
      "text/plain": [
       "<Figure size 432x288 with 1 Axes>"
      ]
     },
     "metadata": {
      "needs_background": "light"
     },
     "output_type": "display_data"
    }
   ],
   "source": [
    "df = pd.DataFrame({\"dists\":y_test.flatten(),\"pred\":y_pred.flatten()})\n",
    "ax = df.plot.scatter(\"dists\",\"pred\",s=0.25)\n",
    "if mode == \"bond\":\n",
    "  ax.set_xlim(1,1.8)\n",
    "  ax.set_ylim(1,1.8)\n",
    "elif mode == \"angle\":\n",
    "  ax.set_xlim(50,140)\n",
    "  ax.set_ylim(50,140)\n",
    "ax.plot([0,200],[0,200],color=\"black\")\n",
    "ax.set_xlabel(\"Experimental\",fontsize=14)\n",
    "ax.set_ylabel(\"Predicted\",fontsize=14)"
   ]
  },
  {
   "cell_type": "code",
   "execution_count": null,
   "id": "completed-noise",
   "metadata": {},
   "outputs": [],
   "source": [
    "from sklearn.metrics import mean_squared_error\n",
    "import seaborn as sns\n",
    "residuals = y_test-y_pred\n",
    "sns.histplot(residuals)"
   ]
  },
  {
   "cell_type": "code",
   "execution_count": null,
   "id": "identical-notion",
   "metadata": {},
   "outputs": [],
   "source": [
    "rmse = np.sqrt(mean_squared_error(y_test,y_pred))\n",
    "print(\"RMSE:\",rmse)"
   ]
  },
  {
   "cell_type": "code",
   "execution_count": null,
   "id": "transsexual-hudson",
   "metadata": {},
   "outputs": [],
   "source": []
  },
  {
   "cell_type": "code",
   "execution_count": null,
   "id": "driving-oklahoma",
   "metadata": {},
   "outputs": [],
   "source": []
  },
  {
   "cell_type": "code",
   "execution_count": null,
   "id": "behind-weekend",
   "metadata": {},
   "outputs": [],
   "source": []
  }
 ],
 "metadata": {
  "kernelspec": {
   "display_name": "Python 3",
   "language": "python",
   "name": "python3"
  },
  "language_info": {
   "codemirror_mode": {
    "name": "ipython",
    "version": 3
   },
   "file_extension": ".py",
   "mimetype": "text/x-python",
   "name": "python",
   "nbconvert_exporter": "python",
   "pygments_lexer": "ipython3",
   "version": "3.8.6"
  }
 },
 "nbformat": 4,
 "nbformat_minor": 5
}
