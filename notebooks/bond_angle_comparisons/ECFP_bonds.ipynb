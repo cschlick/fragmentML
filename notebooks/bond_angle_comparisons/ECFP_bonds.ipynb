{
 "cells": [
  {
   "cell_type": "code",
   "execution_count": 1,
   "id": "deluxe-blues",
   "metadata": {},
   "outputs": [],
   "source": [
    "from multiprocessing import Pool\n",
    "import tqdm\n",
    "import pickle\n",
    "from pathlib import Path\n",
    "from contextlib import closing\n",
    "from rdkit import Chem\n",
    "import numpy as np\n",
    "import pandas as pd"
   ]
  },
  {
   "cell_type": "code",
   "execution_count": 2,
   "id": "celtic-study",
   "metadata": {},
   "outputs": [],
   "source": [
    "import sys\n",
    "sys.path.append(\"../../\")"
   ]
  },
  {
   "cell_type": "code",
   "execution_count": 3,
   "id": "tight-mercury",
   "metadata": {},
   "outputs": [
    {
     "name": "stdout",
     "output_type": "stream",
     "text": [
      "CPU times: user 26 s, sys: 6.77 s, total: 32.8 s\n",
      "Wall time: 33.1 s\n"
     ]
    }
   ],
   "source": [
    "%%time\n",
    "fragments_path = Path(\"/net/cci/cschlick/Filtered_COD3/fragments.pkl\")\n",
    "with fragments_path.open(\"rb\") as fh:\n",
    "  fragments = pickle.load(fh)"
   ]
  },
  {
   "cell_type": "code",
   "execution_count": 4,
   "id": "vocational-characterization",
   "metadata": {},
   "outputs": [],
   "source": [
    "N_max = -1\n",
    "angle_fragments = []\n",
    "bond_fragments = []\n",
    "for i,result in enumerate(fragments):\n",
    "  if i<N_max or N_max == -1:\n",
    "    angle_fragments+=result[\"angle_fragments\"]\n",
    "    bond_fragments+=result[\"bond_fragments\"]"
   ]
  },
  {
   "cell_type": "code",
   "execution_count": 5,
   "id": "atomic-filename",
   "metadata": {},
   "outputs": [],
   "source": [
    "from phenixml.featurizers.fingerprints import MorganFeaturizer"
   ]
  },
  {
   "cell_type": "code",
   "execution_count": 6,
   "id": "worth-music",
   "metadata": {},
   "outputs": [],
   "source": [
    "def worker_angle(angle_fragment):\n",
    "  angle_featurizer = MorganFeaturizer(radius=2,nBits=2048)\n",
    "  return angle_featurizer.featurize(angle_fragment)\n",
    "\n",
    "def worker_bond(bond_fragment):\n",
    "  bond_featurizer = MorganFeaturizer(radius=2,nBits=2048)\n",
    "  return bond_featurizer.featurize(bond_fragment)"
   ]
  },
  {
   "cell_type": "code",
   "execution_count": 7,
   "id": "higher-nancy",
   "metadata": {},
   "outputs": [],
   "source": [
    "# work = angle_fragments\n",
    "# with closing(Pool(processes=32)) as pool:\n",
    "#   angle_features = []\n",
    "#   for result in tqdm.tqdm(pool.map(worker_angle, work), total=len(work)):\n",
    "#       angle_features.append(result)\n",
    "#   pool.terminate()"
   ]
  },
  {
   "cell_type": "code",
   "execution_count": 8,
   "id": "bound-river",
   "metadata": {},
   "outputs": [
    {
     "name": "stderr",
     "output_type": "stream",
     "text": [
      "100%|██████████| 1856810/1856810 [00:00<00:00, 2679225.27it/s]\n"
     ]
    }
   ],
   "source": [
    "work = bond_fragments\n",
    "with closing(Pool(processes=16)) as pool:\n",
    "  bond_features = []\n",
    "  for result in tqdm.tqdm(pool.map(worker_bond, work), total=len(work)):\n",
    "      bond_features.append(result)\n",
    "  pool.terminate()"
   ]
  },
  {
   "cell_type": "code",
   "execution_count": 12,
   "id": "charming-asian",
   "metadata": {},
   "outputs": [],
   "source": [
    "bond_features = np.array(bond_features)"
   ]
  },
  {
   "cell_type": "code",
   "execution_count": 13,
   "id": "negative-stroke",
   "metadata": {},
   "outputs": [],
   "source": [
    "from sklearn.ensemble import RandomForestRegressor\n",
    "from sklearn.model_selection import train_test_split"
   ]
  },
  {
   "cell_type": "code",
   "execution_count": 14,
   "id": "shaped-greenhouse",
   "metadata": {},
   "outputs": [],
   "source": [
    "space = np.arange(len(bond_fragments))\n",
    "keep, drop = train_test_split(space,test_size=0.5)"
   ]
  },
  {
   "cell_type": "code",
   "execution_count": null,
   "id": "sexual-conference",
   "metadata": {},
   "outputs": [],
   "source": [
    "mode = \"bond\"\n",
    "if mode ==\"bond\":\n",
    "  frags = [bond_fragments[i] for i in keep]\n",
    "  X = bond_features[keep]\n",
    "  y =  np.array([bond_fragments[i].properties[\"bond_length\"] for i in keep])\n",
    "  space = np.arange(X.shape[0])\n",
    "  train, test = train_test_split(space,test_size=0.2)\n",
    "  frags_train, frags_test = [frags[i] for i in train], [frags[i] for i in test]\n",
    "elif mode == \"angle\":\n",
    "  frags = [angle_fragments[i] for i in keep]\n",
    "  X = angle_features[keep]\n",
    "  y =  np.array([angle_fragments[i].properties[\"angle_deg\"] for i in keep])\n",
    "  space = np.arange(X.shape[0])\n",
    "  train, test = train_test_split(space,test_size=0.2)\n",
    "  frags_train, frags_test = [frags[i] for i in train], [frags[i] for i in test]\n",
    "  \n",
    "X_train, X_test = X[train],X[test]\n",
    "y_train, y_test = y[train],y[test]"
   ]
  },
  {
   "cell_type": "code",
   "execution_count": 28,
   "id": "organized-institution",
   "metadata": {},
   "outputs": [],
   "source": [
    "regressor = RandomForestRegressor(n_estimators=100,min_samples_split=0.1,min_samples_leaf= random_state=0,n_jobs=-1)"
   ]
  },
  {
   "cell_type": "code",
   "execution_count": 33,
   "id": "short-nylon",
   "metadata": {},
   "outputs": [],
   "source": []
  },
  {
   "cell_type": "code",
   "execution_count": 34,
   "id": "heard-military",
   "metadata": {},
   "outputs": [
    {
     "data": {
      "text/plain": [
       "array([ 215197,  189423, 1327340, ...,  761635, 1695924,  833163])"
      ]
     },
     "execution_count": 34,
     "metadata": {},
     "output_type": "execute_result"
    }
   ],
   "source": [
    "keep"
   ]
  },
  {
   "cell_type": "code",
   "execution_count": 29,
   "id": "upset-palestinian",
   "metadata": {},
   "outputs": [
    {
     "name": "stderr",
     "output_type": "stream",
     "text": [
      "\n",
      "KeyboardInterrupt\n",
      "\n"
     ]
    }
   ],
   "source": [
    "%%time\n",
    "regressor.fit(X_train,y_train)"
   ]
  },
  {
   "cell_type": "code",
   "execution_count": 14,
   "id": "expected-revolution",
   "metadata": {},
   "outputs": [],
   "source": [
    "y_pred = regressor.predict(X_test)"
   ]
  },
  {
   "cell_type": "code",
   "execution_count": 15,
   "id": "banned-allen",
   "metadata": {},
   "outputs": [
    {
     "data": {
      "text/plain": [
       "Text(0, 0.5, 'Predicted')"
      ]
     },
     "execution_count": 15,
     "metadata": {},
     "output_type": "execute_result"
    },
    {
     "data": {
      "image/png": "[encoded data removed]",
      "text/plain": [
       "<Figure size 432x288 with 1 Axes>"
      ]
     },
     "metadata": {
      "needs_background": "light"
     },
     "output_type": "display_data"
    }
   ],
   "source": [
    "df = pd.DataFrame({\"dists\":y_test.flatten(),\"pred\":y_pred.flatten()})\n",
    "ax = df.plot.scatter(\"dists\",\"pred\",s=0.25)\n",
    "if mode == \"bond\":\n",
    "  ax.set_xlim(1,1.8)\n",
    "  ax.set_ylim(1,1.8)\n",
    "elif mode == \"angle\":\n",
    "  ax.set_xlim(50,140)\n",
    "  ax.set_ylim(50,140)\n",
    "ax.plot([0,200],[0,200],color=\"black\")\n",
    "ax.set_xlabel(\"Experimental\",fontsize=14)\n",
    "ax.set_ylabel(\"Predicted\",fontsize=14)"
   ]
  },
  {
   "cell_type": "code",
   "execution_count": 22,
   "id": "transsexual-keyboard",
   "metadata": {},
   "outputs": [
    {
     "data": {
      "text/plain": [
       "(-0.2, 0.2)"
      ]
     },
     "execution_count": 22,
     "metadata": {},
     "output_type": "execute_result"
    },
    {
     "data": {
      "image/png": "[encoded data removed]",
      "text/plain": [
       "<Figure size 432x288 with 1 Axes>"
      ]
     },
     "metadata": {
      "needs_background": "light"
     },
     "output_type": "display_data"
    }
   ],
   "source": [
    "from sklearn.metrics import mean_squared_error\n",
    "import seaborn as sns\n",
    "import matplotlib.pyplot as plt\n",
    "residuals = y_test-y_pred\n",
    "sns.histplot(residuals)\n",
    "plt.xlim(-0.2,0.2)"
   ]
  },
  {
   "cell_type": "code",
   "execution_count": 18,
   "id": "complicated-government",
   "metadata": {},
   "outputs": [
    {
     "name": "stdout",
     "output_type": "stream",
     "text": [
      "RMSE: 0.016317799506657193\n"
     ]
    }
   ],
   "source": [
    "rmse = np.sqrt(mean_squared_error(y_test,y_pred))\n",
    "print(\"RMSE:\",rmse)"
   ]
  },
  {
   "cell_type": "code",
   "execution_count": 19,
   "id": "ruled-hearing",
   "metadata": {},
   "outputs": [],
   "source": [
    "from phenixml.utils.eval_utils import tukey_test"
   ]
  },
  {
   "cell_type": "code",
   "execution_count": 20,
   "id": "korean-plain",
   "metadata": {},
   "outputs": [
    {
     "name": "stdout",
     "output_type": "stream",
     "text": [
      "23361 6.290627474001109\n",
      "6784 1.8267889552512104\n"
     ]
    }
   ],
   "source": [
    "from phenixml.utils.eval_utils import tukey_test\n",
    "outliers_prob,outliers_poss = tukey_test(residuals)\n",
    "print(len(outliers_poss),(len(outliers_poss)/len(y_test))*100)\n",
    "print(len(outliers_prob),(len(outliers_prob)/len(y_test))*100)"
   ]
  },
  {
   "cell_type": "code",
   "execution_count": 23,
   "id": "joint-climate",
   "metadata": {},
   "outputs": [
    {
     "name": "stdout",
     "output_type": "stream",
     "text": [
      "1856810\n"
     ]
    }
   ],
   "source": [
    "print(len(X))"
   ]
  },
  {
   "cell_type": "code",
   "execution_count": 24,
   "id": "familiar-fight",
   "metadata": {},
   "outputs": [
    {
     "data": {
      "text/plain": [
       "1856810"
      ]
     },
     "execution_count": 24,
     "metadata": {},
     "output_type": "execute_result"
    }
   ],
   "source": [
    "len(bond_fragments)"
   ]
  },
  {
   "cell_type": "code",
   "execution_count": 25,
   "id": "opening-wellington",
   "metadata": {},
   "outputs": [],
   "source": [
    "# Dump model to disk\n",
    "from joblib import dump, load\n",
    "dump_path = Path(\"../../examples/pre_trained_models/ecfp_bonds_rf_pretrained.pkl\")\n",
    "with dump_path.open(\"wb\") as fh:\n",
    "  dump(regressor,fh)"
   ]
  },
  {
   "cell_type": "code",
   "execution_count": 30,
   "id": "progressive-relaxation",
   "metadata": {},
   "outputs": [
    {
     "name": "stderr",
     "output_type": "stream",
     "text": [
      "\n",
      "KeyboardInterrupt\n",
      "\n"
     ]
    }
   ],
   "source": [
    "dump?"
   ]
  },
  {
   "cell_type": "code",
   "execution_count": null,
   "id": "unavailable-centre",
   "metadata": {},
   "outputs": [],
   "source": []
  }
 ],
 "metadata": {
  "kernelspec": {
   "display_name": "Python 3",
   "language": "python",
   "name": "python3"
  },
  "language_info": {
   "codemirror_mode": {
    "name": "ipython",
    "version": 3
   },
   "file_extension": ".py",
   "mimetype": "text/x-python",
   "name": "python",
   "nbconvert_exporter": "python",
   "pygments_lexer": "ipython3",
   "version": "3.8.6"
  }
 },
 "nbformat": 4,
 "nbformat_minor": 5
}
